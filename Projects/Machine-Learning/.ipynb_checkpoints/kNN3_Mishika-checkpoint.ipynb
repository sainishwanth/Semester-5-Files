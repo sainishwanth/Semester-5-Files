{
 "cells": [
  {
   "cell_type": "code",
   "execution_count": 34,
   "id": "e02c028d",
   "metadata": {},
   "outputs": [],
   "source": [
    "import numpy as np\n",
    "import matplotlib.pyplot as plt\n",
    "from keras.datasets import mnist\n",
    "from sklearn.utils import shuffle\n",
    "from sklearn.neighbors import KNeighborsClassifier\n",
    "import random\n",
    "from sklearn.metrics import confusion_matrix"
   ]
  },
  {
   "cell_type": "code",
   "execution_count": 35,
   "id": "7a06ca48",
   "metadata": {},
   "outputs": [],
   "source": [
    "(X_train, y_train), (X_test, y_test) = mnist.load_data()"
   ]
  },
  {
   "cell_type": "code",
   "execution_count": 36,
   "id": "9a57d738",
   "metadata": {},
   "outputs": [],
   "source": [
    "X_train_ = X_train[:6900]\n",
    "y_train_ = y_train[:6900]"
   ]
  },
  {
   "cell_type": "code",
   "execution_count": 37,
   "id": "4ee0f43d",
   "metadata": {},
   "outputs": [],
   "source": [
    "k = 31\n",
    "data_points = 6900\n",
    "testing_process = 1380"
   ]
  },
  {
   "cell_type": "code",
   "execution_count": 38,
   "id": "6ca7fbda",
   "metadata": {},
   "outputs": [],
   "source": [
    "X_train = X_train_[:5520] #80% of data \n",
    "y_train = y_train_[:5520]\n",
    "\n",
    "X_test = X_train_[5520:6900] #20% of data \n",
    "y_test = y_train_[5520:6900]"
   ]
  },
  {
   "cell_type": "code",
   "execution_count": 39,
   "id": "313c924e",
   "metadata": {},
   "outputs": [
    {
     "data": {
      "text/plain": [
       "(1380, 28, 28)"
      ]
     },
     "execution_count": 39,
     "metadata": {},
     "output_type": "execute_result"
    }
   ],
   "source": [
    "X_test.shape"
   ]
  },
  {
   "cell_type": "code",
   "execution_count": 40,
   "id": "f5dd1eba",
   "metadata": {},
   "outputs": [],
   "source": [
    "knn = KNeighborsClassifier(n_neighbors=k)"
   ]
  },
  {
   "cell_type": "code",
   "execution_count": 41,
   "id": "10e2a701",
   "metadata": {},
   "outputs": [],
   "source": [
    "#Function shuffles X_train, y_train and X_test, y_test and, changes the dimensions of X_train,X_test to 2D and returns two tuples.\n",
    "def random_test():\n",
    "    a = random.randint(0,100)\n",
    "    X_shuf_train, y_shuf_train = shuffle(X_train, y_train, random_state=a)\n",
    "    X_shuf_train = np.reshape(X_shuf_train, (5520,28*28))\n",
    "    X_shuf_test, y_shuf_test = shuffle(X_test, y_test, random_state=a)\n",
    "    X_shuf_test = np.reshape(X_shuf_test, (1380, 28*28))\n",
    "    return (X_shuf_train, X_shuf_test, y_shuf_train, y_shuf_test)"
   ]
  },
  {
   "cell_type": "code",
   "execution_count": 43,
   "id": "d7b54235",
   "metadata": {},
   "outputs": [
    {
     "name": "stdout",
     "output_type": "stream",
     "text": [
      "Precision of number 0 - 0.9420289855072462\n",
      "Precision of number 1 - 0.7938144329896911\n",
      "Precision of number 2 - 0.9809523809523809\n",
      "Precision of number 3 - 0.9403973509933783\n",
      "Precision of number 4 - 0.957983193277311\n",
      "Precision of number 5 - 0.9499999999999995\n",
      "Precision of number 6 - 0.9225806451612899\n",
      "Precision of number 7 - 0.9166666666666671\n",
      "Precision of number 8 - 0.9724770642201832\n",
      "Precision of number 9 - 0.7869822485207105\n",
      "[[130.   0.   0.   0.   0.   1.   1.   0.   0.   0.]\n",
      " [  0. 154.   0.   0.   0.   0.   0.   1.   1.   0.]\n",
      " [  1.  17. 103.   1.   0.   0.   2.   3.   1.   1.]\n",
      " [  2.   4.   0. 142.   0.   1.   1.   3.   0.   3.]\n",
      " [  0.   2.   0.   0. 114.   0.   1.   0.   0.   8.]\n",
      " [  1.   4.   0.   4.   0. 114.   4.   0.   0.   1.]\n",
      " [  2.   2.   0.   0.   0.   1. 143.   0.   1.   0.]\n",
      " [  0.   7.   0.   0.   2.   0.   0. 110.   0.  20.]\n",
      " [  1.   4.   1.   3.   0.   3.   3.   1. 106.   3.]\n",
      " [  1.   0.   1.   1.   3.   0.   0.   2.   0. 133.]]\n"
     ]
    }
   ],
   "source": [
    "conf_sum = np.zeros((10,10)) # Creating a new matrix of dimensions 10 x 10\n",
    "sum = 0\n",
    "for i in range(31): # Testing k (31) times \n",
    "    X_train,X_testing, y_train, y_testing = random_test()\n",
    "    knn.fit(X_train, y_train)\n",
    "    predict = knn.predict(X_testing)\n",
    "    #print(f'{predict_} - {y_testing}')\n",
    "    conf = confusion_matrix(y_testing, predict)\n",
    "    conf_sum = conf + conf_sum # Summation of all confusion matrices \n",
    "    #https://stackoverflow.com/questions/39770376/scikit-learn-get-accuracy-scores-for-each-class\n",
    "    sum += conf.diagonal()/conf.sum(axis=0)\n",
    "for i in range(10):\n",
    "    print(f'Precision of number {i} - {sum[i]/31}')\n",
    "conf_avg = conf_sum/31\n",
    "print(conf_avg)"
   ]
  },
  {
   "cell_type": "code",
   "execution_count": 44,
   "id": "bd1423ff",
   "metadata": {},
   "outputs": [
    {
     "data": {
      "text/plain": [
       "1380.0"
      ]
     },
     "execution_count": 44,
     "metadata": {},
     "output_type": "execute_result"
    }
   ],
   "source": [
    "# Confirming the accuracy of the confusion matrix \n",
    "sum = 0\n",
    "for i in range(10):\n",
    "    for j in range(10):\n",
    "        sum += conf_avg[i][j]\n",
    "sum"
   ]
  },
  {
   "cell_type": "code",
   "execution_count": null,
   "id": "6161179f",
   "metadata": {},
   "outputs": [],
   "source": []
  }
 ],
 "metadata": {
  "kernelspec": {
   "display_name": "Python 3 (ipykernel)",
   "language": "python",
   "name": "python3"
  },
  "language_info": {
   "codemirror_mode": {
    "name": "ipython",
    "version": 3
   },
   "file_extension": ".py",
   "mimetype": "text/x-python",
   "name": "python",
   "nbconvert_exporter": "python",
   "pygments_lexer": "ipython3",
   "version": "3.10.6"
  }
 },
 "nbformat": 4,
 "nbformat_minor": 5
}
