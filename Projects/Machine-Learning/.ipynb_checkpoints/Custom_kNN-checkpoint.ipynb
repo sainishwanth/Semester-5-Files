{
 "cells": [
  {
   "cell_type": "code",
   "execution_count": 1,
   "id": "77498791",
   "metadata": {},
   "outputs": [],
   "source": [
    "import numpy as np\n",
    "import matplotlib.pyplot as plt\n",
    "from keras.datasets import mnist\n",
    "from sklearn.utils import shuffle\n",
    "from sklearn.neighbors import KNeighborsClassifier\n",
    "import operator \n",
    "from operator import itemgetter\n",
    "from sklearn.metrics import confusion_matrix"
   ]
  },
  {
   "cell_type": "code",
   "execution_count": 2,
   "id": "80797231",
   "metadata": {},
   "outputs": [],
   "source": [
    "(X_train, y_train), (X_test, y_test) = mnist.load_data()"
   ]
  },
  {
   "cell_type": "code",
   "execution_count": 3,
   "id": "42ef4323",
   "metadata": {},
   "outputs": [],
   "source": [
    "X_train = X_train[:6900]\n",
    "y_train = y_train[:6900]\n",
    "\n",
    "X_test = X_train[:1380]\n",
    "y_test = y_train[:1380]"
   ]
  },
  {
   "cell_type": "code",
   "execution_count": 4,
   "id": "bbba00e6",
   "metadata": {},
   "outputs": [],
   "source": [
    "X_train = X_train[:5520]\n",
    "y_train = y_train[:5520]"
   ]
  },
  {
   "cell_type": "code",
   "execution_count": 5,
   "id": "71b90a96",
   "metadata": {},
   "outputs": [],
   "source": [
    "def euc_dist(x1, x2):\n",
    "    return np.sqrt(np.sum((x1-x2)**2))"
   ]
  },
  {
   "cell_type": "code",
   "execution_count": 6,
   "id": "9baebd1a",
   "metadata": {},
   "outputs": [],
   "source": [
    "#https://medium.com/analytics-vidhya/a-beginners-guide-to-knn-and-mnist-handwritten-digits-recognition-using-knn-from-scratch-df6fb982748a\n",
    "class KNN:\n",
    "    def __init__(self, K=31):\n",
    "        self.K = K\n",
    "\n",
    "    def fit(self, x_train, y_train):\n",
    "        self.X_train = x_train\n",
    "        self.Y_train = y_train\n",
    "    def predict(self, X_test):\n",
    "        predictions = [] \n",
    "        for i in range(len(X_test)):\n",
    "            dist = np.array([euc_dist(X_test[i], x_t) for x_t in   \n",
    "            self.X_train])\n",
    "            dist_sorted = dist.argsort()[:self.K]\n",
    "            neigh_count = {}\n",
    "            for idx in dist_sorted:\n",
    "                if self.Y_train[idx] in neigh_count:\n",
    "                    neigh_count[self.Y_train[idx]] += 1\n",
    "                else:\n",
    "                    neigh_count[self.Y_train[idx]] = 1\n",
    "            sorted_neigh_count = sorted(neigh_count.items(),    \n",
    "            key=operator.itemgetter(1), reverse=True)\n",
    "            predictions.append(sorted_neigh_count[0][0]) \n",
    "        return predictions"
   ]
  },
  {
   "cell_type": "code",
   "execution_count": 7,
   "id": "c4dc2ec8",
   "metadata": {},
   "outputs": [],
   "source": [
    "def random_test():\n",
    "    X_shuf, y_shuf = shuffle(X_test, y_test)\n",
    "    #X_shuf = np.reshape(X_shuf, (1380,28*28))\n",
    "    return (X_shuf, y_shuf)"
   ]
  },
  {
   "cell_type": "code",
   "execution_count": 8,
   "id": "eee81491",
   "metadata": {},
   "outputs": [],
   "source": [
    "knn = KNN()"
   ]
  },
  {
   "cell_type": "code",
   "execution_count": 9,
   "id": "a84a1d89",
   "metadata": {},
   "outputs": [],
   "source": [
    "knn.fit(X_train, y_train)"
   ]
  },
  {
   "cell_type": "code",
   "execution_count": null,
   "id": "ccffe084",
   "metadata": {},
   "outputs": [],
   "source": [
    "conf_sum = np.zeros((10,10))\n",
    "sum = 0\n",
    "for i in range(31):\n",
    "    X_test, y_test = random_test()\n",
    "    pred = knn.predict(X_test)\n",
    "    conf_matrix = confusion_matrix(y_test, pred)\n",
    "    conf_sum += conf_matrix\n",
    "    sum += conf_matrix.diagonal()/conf_matrix.sum(axis = 0)\n",
    "for i in range(10):\n",
    "    print(f'Precision of number {i} - {sum[i]/31}')\n",
    "conf_avg = conf_sum/31\n",
    "print(conf_avg)"
   ]
  },
  {
   "cell_type": "code",
   "execution_count": null,
   "id": "dca9ed37",
   "metadata": {},
   "outputs": [],
   "source": []
  }
 ],
 "metadata": {
  "kernelspec": {
   "display_name": "Python 3 (ipykernel)",
   "language": "python",
   "name": "python3"
  },
  "language_info": {
   "codemirror_mode": {
    "name": "ipython",
    "version": 3
   },
   "file_extension": ".py",
   "mimetype": "text/x-python",
   "name": "python",
   "nbconvert_exporter": "python",
   "pygments_lexer": "ipython3",
   "version": "3.10.6"
  }
 },
 "nbformat": 4,
 "nbformat_minor": 5
}
