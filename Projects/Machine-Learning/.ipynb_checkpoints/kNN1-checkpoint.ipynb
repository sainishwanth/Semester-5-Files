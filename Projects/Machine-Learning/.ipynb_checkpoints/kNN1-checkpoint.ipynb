{
 "cells": [
  {
   "cell_type": "code",
   "execution_count": 1,
   "id": "fb7e86ec",
   "metadata": {},
   "outputs": [],
   "source": [
    "import numpy as np\n",
    "from keras.datasets import mnist\n",
    "from matplotlib import pyplot as plt\n",
    "from sklearn.utils import shuffle\n",
    "from sklearn.neighbors import NearestNeighbors"
   ]
  },
  {
   "cell_type": "code",
   "execution_count": 2,
   "id": "9b8af137",
   "metadata": {},
   "outputs": [],
   "source": [
    "(train_X, train_y), (test_X, test_y) = mnist.load_data()"
   ]
  },
  {
   "cell_type": "code",
   "execution_count": 3,
   "id": "60f7e3e6",
   "metadata": {},
   "outputs": [
    {
     "data": {
      "text/plain": [
       "(60000, 28, 28)"
      ]
     },
     "execution_count": 3,
     "metadata": {},
     "output_type": "execute_result"
    }
   ],
   "source": [
    "train_X.shape"
   ]
  },
  {
   "cell_type": "code",
   "execution_count": 4,
   "id": "8dd41d9b",
   "metadata": {},
   "outputs": [
    {
     "data": {
      "text/plain": [
       "(60000,)"
      ]
     },
     "execution_count": 4,
     "metadata": {},
     "output_type": "execute_result"
    }
   ],
   "source": [
    "train_y.shape"
   ]
  },
  {
   "cell_type": "code",
   "execution_count": 5,
   "id": "6d29058f",
   "metadata": {},
   "outputs": [
    {
     "data": {
      "text/plain": [
       "(10000, 28, 28)"
      ]
     },
     "execution_count": 5,
     "metadata": {},
     "output_type": "execute_result"
    }
   ],
   "source": [
    "test_X.shape"
   ]
  },
  {
   "cell_type": "code",
   "execution_count": 6,
   "id": "6df87c5f",
   "metadata": {},
   "outputs": [
    {
     "data": {
      "text/plain": [
       "(10000,)"
      ]
     },
     "execution_count": 6,
     "metadata": {},
     "output_type": "execute_result"
    }
   ],
   "source": [
    "test_y.shape"
   ]
  },
  {
   "cell_type": "code",
   "execution_count": 7,
   "id": "23ccfbaf",
   "metadata": {},
   "outputs": [
    {
     "data": {
      "text/plain": [
       "<matplotlib.image.AxesImage at 0x17eb8aa70>"
      ]
     },
     "execution_count": 7,
     "metadata": {},
     "output_type": "execute_result"
    },
    {
     "data": {
      "image/png": "[encoded data removed]",
      "text/plain": [
       "<Figure size 640x480 with 1 Axes>"
      ]
     },
     "metadata": {},
     "output_type": "display_data"
    }
   ],
   "source": [
    "plt.imshow(train_X[1], cmap='gray')"
   ]
  },
  {
   "cell_type": "code",
   "execution_count": 8,
   "id": "afdf2d67",
   "metadata": {},
   "outputs": [],
   "source": [
    "k = 31\n",
    "data_points = 6900\n",
    "testing_process = 1380"
   ]
  },
  {
   "cell_type": "code",
   "execution_count": 9,
   "id": "c86e68b1",
   "metadata": {},
   "outputs": [
    {
     "data": {
      "text/plain": [
       "(6900, 28, 28)"
      ]
     },
     "execution_count": 9,
     "metadata": {},
     "output_type": "execute_result"
    }
   ],
   "source": [
    "X_dp = train_X[:data_points]\n",
    "\n",
    "y_dp = train_y[:data_points]\n",
    "X_dp.shape"
   ]
  },
  {
   "cell_type": "code",
   "execution_count": 10,
   "id": "7908c585",
   "metadata": {},
   "outputs": [],
   "source": [
    "def random_data():\n",
    "    shuffle_X, shuffle_y = shuffle(train_X_og, train_y_og)\n",
    "    test_X_og = shuffle_X[:testing_process]\n",
    "    test_y_og = shuffle_y[:testing_process]\n",
    "    return (test_X_og, test_y_og)"
   ]
  },
  {
   "cell_type": "code",
   "execution_count": 25,
   "id": "67ba6401",
   "metadata": {},
   "outputs": [],
   "source": [
    "def euclidean_distance(x, y):\n",
    "    return np.sqrt(np.power((x-y),2))"
   ]
  },
  {
   "cell_type": "code",
   "execution_count": 11,
   "id": "b179d905",
   "metadata": {},
   "outputs": [],
   "source": [
    "train_X_dp = X_dp[:5520]\n",
    "train_y_dp = y_dp[:5520]"
   ]
  },
  {
   "cell_type": "code",
   "execution_count": 32,
   "id": "2ab78467",
   "metadata": {},
   "outputs": [
    {
     "data": {
      "text/plain": [
       "<matplotlib.image.AxesImage at 0x29de1b1c0>"
      ]
     },
     "execution_count": 32,
     "metadata": {},
     "output_type": "execute_result"
    },
    {
     "data": {
      "image/png": "[encoded data removed]",
      "text/plain": [
       "<Figure size 640x480 with 1 Axes>"
      ]
     },
     "metadata": {},
     "output_type": "display_data"
    }
   ],
   "source": [
    "indx = np.argsort(train_y_dp)\n",
    "train_X_dp = train_X_dp[indx]\n",
    "train_y_dp = train_y_dp[indx]\n",
    "plt.imshow(train_X_dp[0], cmap='gray')"
   ]
  },
  {
   "cell_type": "code",
   "execution_count": 33,
   "id": "3bd774c9",
   "metadata": {},
   "outputs": [],
   "source": [
    "train_X_flat = np.ndarray.flatten(train_X_dp)\n",
    "# sum = 0\n",
    "# for i in train_X_flat:\n",
    "#     print(f'{sum} - {i}')\n",
    "#     sum += 1"
   ]
  },
  {
   "cell_type": "code",
   "execution_count": 35,
   "id": "04d9727c",
   "metadata": {},
   "outputs": [
    {
     "data": {
      "text/plain": [
       "174.0"
      ]
     },
     "execution_count": 35,
     "metadata": {},
     "output_type": "execute_result"
    }
   ],
   "source": [
    "euclidean_distance(int(train_X_flat[128]), int(train_X_flat[130]))"
   ]
  },
  {
   "cell_type": "code",
   "execution_count": 36,
   "id": "ed40f52c",
   "metadata": {},
   "outputs": [
    {
     "data": {
      "text/plain": [
       "(4327680,)"
      ]
     },
     "execution_count": 36,
     "metadata": {},
     "output_type": "execute_result"
    }
   ],
   "source": [
    "train_X_flat.shape"
   ]
  },
  {
   "cell_type": "code",
   "execution_count": 40,
   "id": "63862fcf",
   "metadata": {},
   "outputs": [
    {
     "data": {
      "text/plain": [
       "45759862.0"
      ]
     },
     "execution_count": 40,
     "metadata": {},
     "output_type": "execute_result"
    }
   ],
   "source": [
    "sum = 0\n",
    "for i in range(768):\n",
    "    for j in range (768, 768+768):\n",
    "        sum += euclidean_distance(int(train_X_flat[i]), int(train_X_flat[j]))\n",
    "sum"
   ]
  },
  {
   "cell_type": "code",
   "execution_count": null,
   "id": "a0541459",
   "metadata": {},
   "outputs": [],
   "source": []
  }
 ],
 "metadata": {
  "kernelspec": {
   "display_name": "Python 3 (ipykernel)",
   "language": "python",
   "name": "python3"
  },
  "language_info": {
   "codemirror_mode": {
    "name": "ipython",
    "version": 3
   },
   "file_extension": ".py",
   "mimetype": "text/x-python",
   "name": "python",
   "nbconvert_exporter": "python",
   "pygments_lexer": "ipython3",
   "version": "3.10.6"
  }
 },
 "nbformat": 4,
 "nbformat_minor": 5
}
