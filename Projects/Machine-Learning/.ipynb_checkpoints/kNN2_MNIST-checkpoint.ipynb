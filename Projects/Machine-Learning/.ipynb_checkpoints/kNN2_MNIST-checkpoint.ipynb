{
 "cells": [
  {
   "cell_type": "code",
   "execution_count": 1,
   "id": "86cf52e3-e8bd-4119-be44-872fe5162356",
   "metadata": {},
   "outputs": [
    {
     "name": "stderr",
     "output_type": "stream",
     "text": [
      "2022-09-25 14:04:15.779584: I tensorflow/core/platform/cpu_feature_guard.cc:193] This TensorFlow binary is optimized with oneAPI Deep Neural Network Library (oneDNN) to use the following CPU instructions in performance-critical operations:  AVX2 FMA\n",
      "To enable them in other operations, rebuild TensorFlow with the appropriate compiler flags.\n",
      "2022-09-25 14:04:16.126295: W tensorflow/stream_executor/platform/default/dso_loader.cc:64] Could not load dynamic library 'libcudart.so.11.0'; dlerror: libcudart.so.11.0: cannot open shared object file: No such file or directory\n",
      "2022-09-25 14:04:16.126316: I tensorflow/stream_executor/cuda/cudart_stub.cc:29] Ignore above cudart dlerror if you do not have a GPU set up on your machine.\n",
      "2022-09-25 14:04:16.182156: E tensorflow/stream_executor/cuda/cuda_blas.cc:2981] Unable to register cuBLAS factory: Attempting to register factory for plugin cuBLAS when one has already been registered\n",
      "2022-09-25 14:04:16.977010: W tensorflow/stream_executor/platform/default/dso_loader.cc:64] Could not load dynamic library 'libnvinfer.so.7'; dlerror: libnvinfer.so.7: cannot open shared object file: No such file or directory\n",
      "2022-09-25 14:04:16.977102: W tensorflow/stream_executor/platform/default/dso_loader.cc:64] Could not load dynamic library 'libnvinfer_plugin.so.7'; dlerror: libnvinfer_plugin.so.7: cannot open shared object file: No such file or directory\n",
      "2022-09-25 14:04:16.977110: W tensorflow/compiler/tf2tensorrt/utils/py_utils.cc:38] TF-TRT Warning: Cannot dlopen some TensorRT libraries. If you would like to use Nvidia GPU with TensorRT, please make sure the missing libraries mentioned above are installed properly.\n"
     ]
    }
   ],
   "source": [
    "import numpy as np\n",
    "from matplotlib import pyplot as plt\n",
    "import pandas\n",
    "import seaborn as sns\n",
    "from keras.datasets import mnist\n",
    "from sklearn.neighbors import NearestNeighbors"
   ]
  },
  {
   "cell_type": "code",
   "execution_count": 4,
   "id": "c541a8fb-198f-42fe-aaa4-d3a3275b5b56",
   "metadata": {},
   "outputs": [],
   "source": [
    "(train_X, train_y), (test_X, test_y) = mnist.load_data() # Loading the Database"
   ]
  },
  {
   "cell_type": "code",
   "execution_count": 5,
   "id": "ba8e94ce-78b3-46ae-aeff-3275f5651b9f",
   "metadata": {},
   "outputs": [
    {
     "data": {
      "text/plain": [
       "<matplotlib.image.AxesImage at 0x7eff24b2f100>"
      ]
     },
     "execution_count": 5,
     "metadata": {},
     "output_type": "execute_result"
    },
    {
     "data": {
      "image/png": "[encoded data removed]",
      "text/plain": [
       "<Figure size 640x480 with 1 Axes>"
      ]
     },
     "metadata": {},
     "output_type": "display_data"
    }
   ],
   "source": [
    "plt.imshow(train_X[50], cmap='gray') # Testing"
   ]
  },
  {
   "cell_type": "code",
   "execution_count": 6,
   "id": "13e80078-3990-4c35-80db-02c4067c01e5",
   "metadata": {},
   "outputs": [],
   "source": [
    "# ENG21AM3031 and ENG20AM3028\n",
    "k = 31 #Max - 31\n",
    "data_points = 6900 # [(31+28)*100] + 1000 = 6900\n",
    "testing_process = 1380 # 20% of 6900 = 1380"
   ]
  },
  {
   "cell_type": "code",
   "execution_count": 9,
   "id": "983045dd-5e63-4b81-b3a8-59bb4ec93279",
   "metadata": {},
   "outputs": [],
   "source": [
    "# Loading in the first 6900 data points \n",
    "data = train_X[:data_points]"
   ]
  },
  {
   "cell_type": "code",
   "execution_count": 22,
   "id": "56f6a39b-43ff-4293-b13e-3a1d09616c80",
   "metadata": {},
   "outputs": [],
   "source": [
    "# Using 80% of the dataset for training\n",
    "train_X_dp = train_X[:5520]"
   ]
  },
  {
   "cell_type": "code",
   "execution_count": 23,
   "id": "8d70bc90-b8e2-447a-a431-6c62b08f62e2",
   "metadata": {},
   "outputs": [
    {
     "data": {
      "text/plain": [
       "(5520, 28, 28)"
      ]
     },
     "execution_count": 23,
     "metadata": {},
     "output_type": "execute_result"
    }
   ],
   "source": [
    "train_X_dp.shape"
   ]
  },
  {
   "cell_type": "code",
   "execution_count": 24,
   "id": "0d328a3c",
   "metadata": {},
   "outputs": [],
   "source": [
    "train_y_dp = train_y[:5520]"
   ]
  },
  {
   "cell_type": "code",
   "execution_count": 32,
   "id": "fbef8d50",
   "metadata": {},
   "outputs": [],
   "source": [
    "test_X_dp = test_X[:1380]"
   ]
  },
  {
   "cell_type": "code",
   "execution_count": 26,
   "id": "9d49f8a2",
   "metadata": {},
   "outputs": [],
   "source": [
    "test_y_dp = test_y[:1380]"
   ]
  },
  {
   "cell_type": "code",
   "execution_count": 27,
   "id": "eb11d61d",
   "metadata": {},
   "outputs": [
    {
     "data": {
      "text/plain": [
       "(1380,)"
      ]
     },
     "execution_count": 27,
     "metadata": {},
     "output_type": "execute_result"
    }
   ],
   "source": [
    "test_y_dp.shape"
   ]
  },
  {
   "cell_type": "code",
   "execution_count": 35,
   "id": "20cbe025",
   "metadata": {},
   "outputs": [],
   "source": [
    "train_X_dp = np.ndarray.flatten(train_X_dp)"
   ]
  },
  {
   "cell_type": "code",
   "execution_count": 36,
   "id": "02670b23",
   "metadata": {},
   "outputs": [
    {
     "data": {
      "text/plain": [
       "0"
      ]
     },
     "execution_count": 36,
     "metadata": {},
     "output_type": "execute_result"
    }
   ],
   "source": [
    "train_X_dp[1]"
   ]
  },
  {
   "cell_type": "code",
   "execution_count": 43,
   "id": "d145aa13",
   "metadata": {},
   "outputs": [],
   "source": [
    "import math"
   ]
  },
  {
   "cell_type": "code",
   "execution_count": 48,
   "id": "f5d8052d",
   "metadata": {},
   "outputs": [],
   "source": [
    "# Calculating distance using the euclidean distance forumlae\n",
    "def dist(x1, x2):\n",
    "    return np.sqrt(np.sum(math.pow((x1-x2),2)))"
   ]
  },
  {
   "cell_type": "code",
   "execution_count": 52,
   "id": "adf6e760",
   "metadata": {},
   "outputs": [
    {
     "name": "stdout",
     "output_type": "stream",
     "text": [
      "2.0\n"
     ]
    }
   ],
   "source": [
    "def random_data():\n",
    "    shuffle_X, shuffle_y = shuffle(train_X_og, train_y_og)\n",
    "    test_X_og = shuffle_X[:testing_process]\n",
    "    test_y_og = shuffle_y[:testing_process]\n",
    "    return (test_X_og, test_y_og)"
   ]
  },
  {
   "cell_type": "code",
   "execution_count": null,
   "id": "c37db2fb",
   "metadata": {},
   "outputs": [],
   "source": []
  }
 ],
 "metadata": {
  "kernelspec": {
   "display_name": "Python 3 (ipykernel)",
   "language": "python",
   "name": "python3"
  },
  "language_info": {
   "codemirror_mode": {
    "name": "ipython",
    "version": 3
   },
   "file_extension": ".py",
   "mimetype": "text/x-python",
   "name": "python",
   "nbconvert_exporter": "python",
   "pygments_lexer": "ipython3",
   "version": "3.10.6"
  }
 },
 "nbformat": 4,
 "nbformat_minor": 5
}
