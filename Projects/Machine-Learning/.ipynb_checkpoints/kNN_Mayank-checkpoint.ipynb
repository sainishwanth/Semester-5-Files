{
 "cells": [
  {
   "cell_type": "code",
   "execution_count": 1,
   "id": "e02c028d",
   "metadata": {},
   "outputs": [],
   "source": [
    "import numpy as np\n",
    "import matplotlib.pyplot as plt\n",
    "from keras.datasets import mnist\n",
    "from sklearn.utils import shuffle\n",
    "from sklearn.neighbors import KNeighborsClassifier\n",
    "import random\n",
    "from sklearn.metrics import confusion_matrix"
   ]
  },
  {
   "cell_type": "code",
   "execution_count": 2,
   "id": "7a06ca48",
   "metadata": {},
   "outputs": [],
   "source": [
    "(X_train, y_train), (X_test, y_test) = mnist.load_data()"
   ]
  },
  {
   "cell_type": "code",
   "execution_count": 3,
   "id": "9a57d738",
   "metadata": {},
   "outputs": [],
   "source": [
    "X_train = X_train[:4800]\n",
    "y_train = y_train[:4800]"
   ]
  },
  {
   "cell_type": "code",
   "execution_count": 4,
   "id": "6ca7fbda",
   "metadata": {},
   "outputs": [],
   "source": [
    "X_train = X_train[:3840] #80% of data \n",
    "y_train = y_train[:3840]\n",
    "\n",
    "X_test = X_train[:960] #20% of data \n",
    "y_test = y_train[:960]"
   ]
  },
  {
   "cell_type": "code",
   "execution_count": 5,
   "id": "f5dd1eba",
   "metadata": {},
   "outputs": [],
   "source": [
    "knn = KNeighborsClassifier(n_neighbors=38)"
   ]
  },
  {
   "cell_type": "code",
   "execution_count": 6,
   "id": "10e2a701",
   "metadata": {},
   "outputs": [],
   "source": [
    "#Function shuffles X_train, y_train and X_test, y_test and, changes the dimensions of X_train,X_test to 2D and returns two tuples.\n",
    "def random_test():\n",
    "    a = random.randint(0,100)\n",
    "    X_shuf_train, y_shuf_train = shuffle(X_train, y_train, random_state=a)\n",
    "    X_shuf_train = np.reshape(X_shuf_train, (3840,28*28))\n",
    "    X_shuf_test, y_shuf_test = shuffle(X_test, y_test, random_state=a)\n",
    "    X_shuf_test = np.reshape(X_shuf_test, (960, 28*28))\n",
    "    return (X_shuf_train, X_shuf_test, y_shuf_train, y_shuf_test)"
   ]
  },
  {
   "cell_type": "code",
   "execution_count": 7,
   "id": "d7b54235",
   "metadata": {},
   "outputs": [
    {
     "name": "stdout",
     "output_type": "stream",
     "text": [
      "Precision of number 0 - 0.9183673469387758\n",
      "Precision of number 1 - 0.7189542483660132\n",
      "Precision of number 2 - 0.9855072463768122\n",
      "Precision of number 3 - 0.8404255319148932\n",
      "Precision of number 4 - 0.9361702127659581\n",
      "Precision of number 5 - 0.9350649350649355\n",
      "Precision of number 6 - 0.9032258064516124\n",
      "Precision of number 7 - 0.8636363636363635\n",
      "Precision of number 8 - 0.971428571428571\n",
      "Precision of number 9 - 0.8431372549019611\n",
      "[[ 90.   0.   0.   0.   0.   1.   2.   0.   0.   0.]\n",
      " [  0. 110.   0.   1.   0.   0.   0.   1.   0.   0.]\n",
      " [  2.  14.  68.   1.   1.   1.   1.   7.   1.   2.]\n",
      " [  1.   3.   0.  79.   0.   0.   0.   3.   0.   2.]\n",
      " [  0.   5.   0.   0.  88.   0.   2.   0.   0.   5.]\n",
      " [  1.   2.   1.   7.   0.  72.   2.   0.   1.   2.]\n",
      " [  2.   2.   0.   0.   0.   1.  84.   0.   0.   0.]\n",
      " [  0.   8.   0.   0.   3.   0.   0.  95.   0.   4.]\n",
      " [  0.   7.   0.   5.   0.   2.   1.   0.  68.   1.]\n",
      " [  2.   2.   0.   1.   2.   0.   1.   4.   0.  86.]]\n"
     ]
    }
   ],
   "source": [
    "conf_sum = np.zeros((10,10)) # Creating a new matrix of dimensions 10 x 10\n",
    "sum = 0\n",
    "for i in range(38): # Testing k (31) times \n",
    "    X_train,X_testing, y_train, y_testing = random_test()\n",
    "    knn.fit(X_train, y_train)\n",
    "    predict = knn.predict(X_testing)\n",
    "    #print(f'{predict_} - {y_testing}')\n",
    "    conf = confusion_matrix(y_testing, predict)\n",
    "    conf_sum = conf + conf_sum # Summation of all confusion matrices \n",
    "    #https://stackoverflow.com/questions/39770376/scikit-learn-get-accuracy-scores-for-each-class\n",
    "    sum += conf.diagonal()/conf.sum(axis=0)\n",
    "for i in range(10):\n",
    "    print(f'Precision of number {i} - {sum[i]/38}')\n",
    "conf_avg = conf_sum/38\n",
    "print(conf_avg)"
   ]
  },
  {
   "cell_type": "code",
   "execution_count": null,
   "id": "6161179f",
   "metadata": {},
   "outputs": [],
   "source": []
  }
 ],
 "metadata": {
  "kernelspec": {
   "display_name": "Python 3 (ipykernel)",
   "language": "python",
   "name": "python3"
  },
  "language_info": {
   "codemirror_mode": {
    "name": "ipython",
    "version": 3
   },
   "file_extension": ".py",
   "mimetype": "text/x-python",
   "name": "python",
   "nbconvert_exporter": "python",
   "pygments_lexer": "ipython3",
   "version": "3.10.6"
  }
 },
 "nbformat": 4,
 "nbformat_minor": 5
}
