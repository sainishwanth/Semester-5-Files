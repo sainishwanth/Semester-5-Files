{
 "cells": [
  {
   "cell_type": "code",
   "execution_count": 1,
   "id": "77498791",
   "metadata": {},
   "outputs": [],
   "source": [
    "import numpy as np\n",
    "import matplotlib.pyplot as plt\n",
    "from keras.datasets import mnist\n",
    "from sklearn.utils import shuffle\n",
    "import operator \n",
    "from operator import itemgetter\n",
    "from sklearn.metrics import confusion_matrix\n",
    "from sklearn.model_selection import train_test_split\n",
    "import random"
   ]
  },
  {
   "cell_type": "code",
   "execution_count": 2,
   "id": "80797231",
   "metadata": {},
   "outputs": [],
   "source": [
    "(X_train, y_train), (X_test, y_test) = mnist.load_data()"
   ]
  },
  {
   "cell_type": "code",
   "execution_count": 3,
   "id": "42ef4323",
   "metadata": {},
   "outputs": [],
   "source": [
    "X_train_ = X_train[:3840]\n",
    "y_train_ = y_train[:3840]\n",
    "\n",
    "X_test = X_train[:960]\n",
    "y_test = y_train[:960]"
   ]
  },
  {
   "cell_type": "code",
   "execution_count": 4,
   "id": "71b90a96",
   "metadata": {},
   "outputs": [],
   "source": [
    "def euc_dist(x1, x2):\n",
    "    return np.sqrt(np.sum((x1-x2)**2))"
   ]
  },
  {
   "cell_type": "code",
   "execution_count": 5,
   "id": "9baebd1a",
   "metadata": {},
   "outputs": [],
   "source": [
    "#https://medium.com/analytics-vidhya/a-beginners-guide-to-knn-and-mnist-handwritten-digits-recognition-using-knn-from-scratch-df6fb982748a\n",
    "class KNN:\n",
    "    def __init__(self, K=31):\n",
    "        self.K = K\n",
    "\n",
    "    def fit(self, x_train, y_train):\n",
    "        self.X_train = x_train\n",
    "        self.Y_train = y_train\n",
    "    def predict(self, X_test):\n",
    "        predictions = [] \n",
    "        for i in range(len(X_test)):\n",
    "            dist = np.array([euc_dist(X_test[i], x_t) for x_t in   \n",
    "            self.X_train])\n",
    "            dist_sorted = dist.argsort()[:self.K]\n",
    "            neigh_count = {}\n",
    "            for idx in dist_sorted:\n",
    "                if self.Y_train[idx] in neigh_count:\n",
    "                    neigh_count[self.Y_train[idx]] += 1\n",
    "                else:\n",
    "                    neigh_count[self.Y_train[idx]] = 1\n",
    "            sorted_neigh_count = sorted(neigh_count.items(),    \n",
    "            key=operator.itemgetter(1), reverse=True)\n",
    "            predictions.append(sorted_neigh_count[0][0]) \n",
    "        return predictions"
   ]
  },
  {
   "cell_type": "code",
   "execution_count": 6,
   "id": "c4dc2ec8",
   "metadata": {},
   "outputs": [],
   "source": [
    "def random_test():\n",
    "    a = random.randint(0,100)\n",
    "    X_shuf_train, y_shuf_train = shuffle(X_train, y_train, random_state=a)\n",
    "    X_shuf_test, y_shuf_test = shuffle(X_test, y_test, random_state=a)\n",
    "    #X_shuf = np.reshape(X_shuf, (1380,28*28))\n",
    "    return (X_shuf_train, X_shuf_test, y_shuf_train, y_shuf_test)"
   ]
  },
  {
   "cell_type": "code",
   "execution_count": 7,
   "id": "eee81491",
   "metadata": {},
   "outputs": [],
   "source": [
    "knn = KNN()"
   ]
  },
  {
   "cell_type": "code",
   "execution_count": null,
   "id": "ccffe084",
   "metadata": {},
   "outputs": [
    {
     "name": "stdout",
     "output_type": "stream",
     "text": [
      "Run - 0\n"
     ]
    }
   ],
   "source": [
    "conf_sum = np.zeros((10,10))\n",
    "sum = 0\n",
    "for i in range(38):\n",
    "    print(f\"Run - {i}\")\n",
    "    a = random.randint(0,100)\n",
    "    X_train, X_test, y_train, y_test = random_test()\n",
    "    knn.fit(X_train, y_train)\n",
    "    pred = knn.predict(X_test)\n",
    "    conf_matrix = confusion_matrix(y_test, pred)\n",
    "    conf_sum += conf_matrix\n",
    "    sum += conf_matrix.diagonal()/conf_matrix.sum(axis = 0)\n",
    "for i in range(10):\n",
    "    print(f'Precision of number {i} - {sum[i]/38}')\n",
    "conf_avg = conf_sum/38\n",
    "print(conf_avg)"
   ]
  },
  {
   "cell_type": "code",
   "execution_count": 11,
   "id": "dca9ed37",
   "metadata": {},
   "outputs": [
    {
     "data": {
      "text/plain": [
       "1380.0"
      ]
     },
     "execution_count": 11,
     "metadata": {},
     "output_type": "execute_result"
    }
   ],
   "source": [
    "# Confirming the accuracy of the confusion matrix \n",
    "sum = 0\n",
    "for i in range(10):\n",
    "    for j in range(10):\n",
    "        sum += conf_avg[i][j]\n",
    "sum"
   ]
  },
  {
   "cell_type": "code",
   "execution_count": 41,
   "id": "d9b1eeca",
   "metadata": {},
   "outputs": [
    {
     "data": {
      "text/plain": [
       "array([[ 59., 519.,   4.,  30.,  30.,   7.,   1.,  14.,   4.,   3.],\n",
       "       [  0., 686.,   0.,   0.,   3.,   0.,   0.,   4.,   0.,   0.],\n",
       "       [  5., 570.,  35.,  23.,  39.,   4.,   1.,  20.,   2.,   1.],\n",
       "       [  7., 585.,  13.,  78.,  25.,   2.,   1.,  31.,   0.,   0.],\n",
       "       [  1., 600.,   3.,   4.,  96.,   3.,   0.,  13.,   0.,   3.],\n",
       "       [  2., 498.,   4.,  20.,  28.,  12.,   0.,   8.,   1.,   2.],\n",
       "       [  8., 650.,  13.,  14.,  33.,   4.,  14.,   7.,   0.,   1.],\n",
       "       [  0., 596.,   0.,   1.,  29.,   1.,   0.,  85.,   2.,   2.],\n",
       "       [  2., 544.,  13.,  26.,  25.,   6.,   1.,  21.,  15.,   2.],\n",
       "       [  0., 568.,   1.,   8.,  50.,   0.,   0.,  39.,   2.,  13.]])"
      ]
     },
     "execution_count": 41,
     "metadata": {},
     "output_type": "execute_result"
    }
   ],
   "source": [
    "conf_sum"
   ]
  }
 ],
 "metadata": {
  "kernelspec": {
   "display_name": "Python 3 (ipykernel)",
   "language": "python",
   "name": "python3"
  },
  "language_info": {
   "codemirror_mode": {
    "name": "ipython",
    "version": 3
   },
   "file_extension": ".py",
   "mimetype": "text/x-python",
   "name": "python",
   "nbconvert_exporter": "python",
   "pygments_lexer": "ipython3",
   "version": "3.10.6"
  }
 },
 "nbformat": 4,
 "nbformat_minor": 5
}
