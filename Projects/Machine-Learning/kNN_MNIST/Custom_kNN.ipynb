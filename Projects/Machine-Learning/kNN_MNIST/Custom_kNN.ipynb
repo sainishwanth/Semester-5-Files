{
 "cells": [
  {
   "cell_type": "code",
   "execution_count": 1,
   "id": "77498791",
   "metadata": {},
   "outputs": [],
   "source": [
    "import numpy as np\n",
    "import matplotlib.pyplot as plt\n",
    "from keras.datasets import mnist\n",
    "from sklearn.utils import shuffle\n",
    "import operator \n",
    "from operator import itemgetter\n",
    "from sklearn.metrics import confusion_matrix\n",
    "from sklearn.model_selection import train_test_split\n",
    "import random"
   ]
  },
  {
   "cell_type": "code",
   "execution_count": 2,
   "id": "80797231",
   "metadata": {},
   "outputs": [],
   "source": [
    "(X_train, y_train), (X_test, y_test) = mnist.load_data()"
   ]
  },
  {
   "cell_type": "code",
   "execution_count": 3,
   "id": "fddc3794",
   "metadata": {},
   "outputs": [],
   "source": [
    "k = 31\n",
    "data_points = 6900\n",
    "training = int(data_points*0.8)"
   ]
  },
  {
   "cell_type": "code",
   "execution_count": 4,
   "id": "1a35fa89",
   "metadata": {},
   "outputs": [],
   "source": [
    "X_train_ = X_train[:data_points]\n",
    "y_train_ = y_train[:data_points]"
   ]
  },
  {
   "cell_type": "code",
   "execution_count": 5,
   "id": "42ef4323",
   "metadata": {},
   "outputs": [],
   "source": [
    "X_train = X_train_[:training] # 80% of the dataset\n",
    "y_train = y_train_[:training]\n",
    "\n",
    "X_test = X_train_[training:data_points] #Last 20% of the dataset\n",
    "y_test = y_train_[training:data_points]"
   ]
  },
  {
   "cell_type": "code",
   "execution_count": 6,
   "id": "71b90a96",
   "metadata": {},
   "outputs": [],
   "source": [
    "def euc_dist(x1, x2):\n",
    "    return np.sqrt(np.sum(np.power((x1-x2),2)))"
   ]
  },
  {
   "cell_type": "code",
   "execution_count": 7,
   "id": "9baebd1a",
   "metadata": {},
   "outputs": [],
   "source": [
    "#https://medium.com/analytics-vidhya/a-beginners-guide-to-knn-and-mnist-handwritten-digits-recognition-using-knn-from-scratch-df6fb982748a\n",
    "class KNN:\n",
    "    def __init__(self, K):\n",
    "        self.K = K\n",
    "\n",
    "    def fit(self, x_train, y_train):\n",
    "        self.X_train = x_train\n",
    "        self.Y_train = y_train\n",
    "    def predict(self, X_test):\n",
    "        predictions = [] \n",
    "        for i in range(len(X_test)):\n",
    "            dist = np.array([euc_dist(X_test[i], x_t) for x_t in   \n",
    "            self.X_train])\n",
    "            dist_sorted = dist.argsort()[:self.K]\n",
    "            neigh_count = {}\n",
    "            for idx in dist_sorted:\n",
    "                if self.Y_train[idx] in neigh_count:\n",
    "                    neigh_count[self.Y_train[idx]] += 1\n",
    "                else:\n",
    "                    neigh_count[self.Y_train[idx]] = 1\n",
    "            sorted_neigh_count = sorted(neigh_count.items(),    \n",
    "            key=operator.itemgetter(1), reverse=True)\n",
    "            predictions.append(sorted_neigh_count[0][0]) \n",
    "        return predictions"
   ]
  },
  {
   "cell_type": "code",
   "execution_count": 8,
   "id": "c4dc2ec8",
   "metadata": {},
   "outputs": [],
   "source": [
    "def random_test():\n",
    "    a = random.randint(0,100)\n",
    "    X_shuf_train, y_shuf_train = shuffle(X_train, y_train, random_state=a)\n",
    "    X_shuf_test, y_shuf_test = shuffle(X_test, y_test, random_state=a)\n",
    "    return (X_shuf_train, X_shuf_test, y_shuf_train, y_shuf_test)"
   ]
  },
  {
   "cell_type": "code",
   "execution_count": 9,
   "id": "eee81491",
   "metadata": {},
   "outputs": [],
   "source": [
    "knn = KNN(K = k)"
   ]
  },
  {
   "cell_type": "code",
   "execution_count": null,
   "id": "54c30fae",
   "metadata": {},
   "outputs": [],
   "source": [
    "conf_sum = np.zeros((10,10))\n",
    "sum = 0\n",
    "for i in range(k):\n",
    "    print(f\"Run - {i+1} / {k}\")\n",
    "    a = random.randint(0,100)\n",
    "    X_train, X_test, y_train, y_test = random_test()\n",
    "    knn.fit(X_train, y_train)\n",
    "    pred = knn.predict(X_test)\n",
    "    conf_matrix = confusion_matrix(y_test, pred)\n",
    "    conf_sum += conf_matrix\n",
    "    sum += conf_matrix.diagonal()/conf_matrix.sum(axis = 0)\n",
    "for i in range(10):\n",
    "    print(f'Precision of number {i} - {sum[i]/k}')\n",
    "conf_avg = conf_sum/k\n",
    "print(conf_avg)"
   ]
  },
  {
   "cell_type": "code",
   "execution_count": 61,
   "id": "dca9ed37",
   "metadata": {},
   "outputs": [
    {
     "data": {
      "text/plain": [
       "1380.0"
      ]
     },
     "execution_count": 61,
     "metadata": {},
     "output_type": "execute_result"
    }
   ],
   "source": [
    "# Confirming the accuracy of the confusion matrix \n",
    "sum = 0\n",
    "for i in range(10):\n",
    "    for j in range(10):\n",
    "        sum += conf_avg[i][j]\n",
    "sum"
   ]
  },
  {
   "cell_type": "code",
   "execution_count": null,
   "id": "57f6937f",
   "metadata": {},
   "outputs": [],
   "source": []
  }
 ],
 "metadata": {
  "kernelspec": {
   "display_name": "Python 3 (ipykernel)",
   "language": "python",
   "name": "python3"
  },
  "language_info": {
   "codemirror_mode": {
    "name": "ipython",
    "version": 3
   },
   "file_extension": ".py",
   "mimetype": "text/x-python",
   "name": "python",
   "nbconvert_exporter": "python",
   "pygments_lexer": "ipython3",
   "version": "3.10.6"
  }
 },
 "nbformat": 4,
 "nbformat_minor": 5
}
