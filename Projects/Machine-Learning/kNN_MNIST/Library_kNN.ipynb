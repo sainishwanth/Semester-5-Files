{
 "cells": [
  {
   "cell_type": "code",
   "execution_count": null,
   "id": "e02c028d",
   "metadata": {},
   "outputs": [
    {
     "ename": "",
     "evalue": "",
     "output_type": "error",
     "traceback": [
      "\u001b[1;31mFailed to start the Kernel. \n",
      "\u001b[1;31mTraceback (most recent call last):\n",
      "\u001b[1;31m  File \"/Users/sainishwanth/.vscode/extensions/ms-toolsai.jupyter-2022.9.1303220346/pythonFiles/vscode_datascience_helpers/jupyter_daemon.py\", line 158, in _start_notebook\n",
      "\u001b[1;31m    from notebook import notebookapp as app\n",
      "\u001b[1;31m  File \"/Users/sainishwanth/Library/Python/3.10/lib/python/site-packages/notebook/notebookapp.py\", line 43, in <module>\n",
      "\u001b[1;31m    from jinja2 import Environment, FileSystemLoader\n",
      "\u001b[1;31mModuleNotFoundError: No module named 'jinja2'\n",
      "\u001b[1;31m\n",
      "\u001b[1;31mDuring handling of the above exception, another exception occurred:\n",
      "\u001b[1;31m\n",
      "\u001b[1;31mTraceback (most recent call last):\n",
      "\u001b[1;31m  File \"/Users/sainishwanth/.vscode/extensions/ms-toolsai.jupyter-2022.9.1303220346/pythonFiles/vscode_datascience_helpers/daemon/daemon_python.py\", line 54, in _decorator\n",
      "\u001b[1;31m    return func(self, *args, **kwargs)\n",
      "\u001b[1;31m  File \"/Users/sainishwanth/.vscode/extensions/ms-toolsai.jupyter-2022.9.1303220346/pythonFiles/vscode_datascience_helpers/jupyter_daemon.py\", line 111, in m_exec_module_observable\n",
      "\u001b[1;31m    self._start_notebook(args, cwd, env)\n",
      "\u001b[1;31m  File \"/Users/sainishwanth/.vscode/extensions/ms-toolsai.jupyter-2022.9.1303220346/pythonFiles/vscode_datascience_helpers/jupyter_daemon.py\", line 160, in _start_notebook\n",
      "\u001b[1;31m    from notebook import app as app\n",
      "\u001b[1;31mImportError: cannot import name 'app' from 'notebook' (/Users/sainishwanth/Library/Python/3.10/lib/python/site-packages/notebook/__init__.py)\n",
      "\u001b[1;31m\n",
      "\u001b[1;31mFailed to run jupyter as observable with args notebook --no-browser --notebook-dir=\"/Users/sainishwanth/Documents/College/Semester-5/Projects/Machine-Learning/kNN_MNIST\" --config=/var/folders/hf/y10yygrx7lb2177cn071tfn00000gn/T/21595790-7c74-4ee3-a4ac-57bb5e9d8183/jupyter_notebook_config.py --NotebookApp.iopub_data_rate_limit=10000000000.0. \n",
      "\u001b[1;31mView Jupyter <a href='command:jupyter.viewOutput'>log</a> for further details."
     ]
    }
   ],
   "source": [
    "import numpy as np\n",
    "import matplotlib.pyplot as plt\n",
    "from keras.datasets import mnist\n",
    "from sklearn.utils import shuffle\n",
    "from sklearn.neighbors import KNeighborsClassifier\n",
    "import random\n",
    "from sklearn.metrics import confusion_matrix"
   ]
  },
  {
   "cell_type": "code",
   "execution_count": 2,
   "id": "7a06ca48",
   "metadata": {},
   "outputs": [
    {
     "ename": "NameError",
     "evalue": "name 'mnist' is not defined",
     "output_type": "error",
     "traceback": [
      "\u001b[0;31m---------------------------------------------------------------------------\u001b[0m",
      "\u001b[0;31mNameError\u001b[0m                                 Traceback (most recent call last)",
      "Input \u001b[0;32mIn [2]\u001b[0m, in \u001b[0;36m<cell line: 1>\u001b[0;34m()\u001b[0m\n\u001b[0;32m----> 1\u001b[0m (X_train, y_train), (X_test, y_test) \u001b[38;5;241m=\u001b[39m \u001b[43mmnist\u001b[49m\u001b[38;5;241m.\u001b[39mload_data()\n",
      "\u001b[0;31mNameError\u001b[0m: name 'mnist' is not defined"
     ]
    }
   ],
   "source": [
    "(X_train, y_train), (X_test, y_test) = mnist.load_data()"
   ]
  },
  {
   "cell_type": "code",
   "execution_count": 58,
   "id": "cf56e7ee",
   "metadata": {},
   "outputs": [],
   "source": [
    "#ENG21AM3031 and ENG21AM3028\n",
    "k = 31 #ENG21AM3031\n",
    "data_points = 6900 #(31+28)*100 + 1000\n",
    "training = int(data_points*0.8) # 80% of total dataset"
   ]
  },
  {
   "cell_type": "code",
   "execution_count": 59,
   "id": "9a57d738",
   "metadata": {},
   "outputs": [],
   "source": [
    "X_train_ = X_train[:data_points]\n",
    "y_train_ = y_train[:data_points]"
   ]
  },
  {
   "cell_type": "code",
   "execution_count": 60,
   "id": "6ca7fbda",
   "metadata": {},
   "outputs": [],
   "source": [
    "X_train = X_train_[:training] # 80% of the dataset\n",
    "y_train = y_train_[:training]\n",
    "\n",
    "X_test = X_train_[training:data_points] #Last 20% of the dataset\n",
    "y_test = y_train_[training:data_points]"
   ]
  },
  {
   "cell_type": "code",
   "execution_count": 61,
   "id": "313c924e",
   "metadata": {},
   "outputs": [
    {
     "data": {
      "text/plain": [
       "(1380, 28, 28)"
      ]
     },
     "execution_count": 61,
     "metadata": {},
     "output_type": "execute_result"
    }
   ],
   "source": [
    "X_test.shape"
   ]
  },
  {
   "cell_type": "code",
   "execution_count": 62,
   "id": "f5dd1eba",
   "metadata": {},
   "outputs": [],
   "source": [
    "knn = KNeighborsClassifier(n_neighbors=k)"
   ]
  },
  {
   "cell_type": "code",
   "execution_count": 63,
   "id": "10e2a701",
   "metadata": {},
   "outputs": [],
   "source": [
    "#Function shuffles X_train, y_train and X_test, y_test and, changes the dimensions of X_train,X_test to 2D and returns two tuples.\n",
    "def random_test():\n",
    "    a = random.randint(0,100)\n",
    "    X_shuf_train, y_shuf_train = shuffle(X_train, y_train, random_state=a)\n",
    "    X_shuf_train = np.reshape(X_shuf_train, (training,28*28))\n",
    "    X_shuf_test, y_shuf_test = shuffle(X_test, y_test, random_state=a)\n",
    "    X_shuf_test = np.reshape(X_shuf_test, (data_points-training, 28*28))\n",
    "    return (X_shuf_train, X_shuf_test, y_shuf_train, y_shuf_test)"
   ]
  },
  {
   "cell_type": "code",
   "execution_count": 64,
   "id": "d7b54235",
   "metadata": {},
   "outputs": [
    {
     "name": "stdout",
     "output_type": "stream",
     "text": [
      "Precision of number 0 - 0.9420289855072462\n",
      "Precision of number 1 - 0.7938144329896911\n",
      "Precision of number 2 - 0.9809523809523809\n",
      "Precision of number 3 - 0.9403973509933783\n",
      "Precision of number 4 - 0.957983193277311\n",
      "Precision of number 5 - 0.9499999999999995\n",
      "Precision of number 6 - 0.9225806451612899\n",
      "Precision of number 7 - 0.9166666666666671\n",
      "Precision of number 8 - 0.9724770642201832\n",
      "Precision of number 9 - 0.7869822485207105\n",
      "[[130.   0.   0.   0.   0.   1.   1.   0.   0.   0.]\n",
      " [  0. 154.   0.   0.   0.   0.   0.   1.   1.   0.]\n",
      " [  1.  17. 103.   1.   0.   0.   2.   3.   1.   1.]\n",
      " [  2.   4.   0. 142.   0.   1.   1.   3.   0.   3.]\n",
      " [  0.   2.   0.   0. 114.   0.   1.   0.   0.   8.]\n",
      " [  1.   4.   0.   4.   0. 114.   4.   0.   0.   1.]\n",
      " [  2.   2.   0.   0.   0.   1. 143.   0.   1.   0.]\n",
      " [  0.   7.   0.   0.   2.   0.   0. 110.   0.  20.]\n",
      " [  1.   4.   1.   3.   0.   3.   3.   1. 106.   3.]\n",
      " [  1.   0.   1.   1.   3.   0.   0.   2.   0. 133.]]\n"
     ]
    }
   ],
   "source": [
    "conf_sum = np.zeros((10,10)) # Creating a new matrix of dimensions 10 x 10\n",
    "sum = 0\n",
    "for i in range(k): # Testing k (31) times \n",
    "    X_train,X_testing, y_train, y_testing = random_test()\n",
    "    knn.fit(X_train, y_train)\n",
    "    predict = knn.predict(X_testing)\n",
    "    #print(f'{predict_} - {y_testing}')\n",
    "    conf = confusion_matrix(y_testing, predict)\n",
    "    conf_sum = conf + conf_sum # Summation of all confusion matrices \n",
    "    #https://stackoverflow.com/questions/39770376/scikit-learn-get-accuracy-scores-for-each-class\n",
    "    sum += conf.diagonal()/conf.sum(axis=0)\n",
    "for i in range(10):\n",
    "    print(f'Precision of number {i} - {sum[i]/k}')\n",
    "conf_avg = conf_sum/k\n",
    "print(conf_avg)"
   ]
  },
  {
   "cell_type": "code",
   "execution_count": 66,
   "id": "bd1423ff",
   "metadata": {},
   "outputs": [
    {
     "data": {
      "text/plain": [
       "1380.0"
      ]
     },
     "execution_count": 66,
     "metadata": {},
     "output_type": "execute_result"
    }
   ],
   "source": [
    "# Confirming the accuracy of the confusion matrix \n",
    "sum = 0\n",
    "for i in range(10):\n",
    "    for j in range(10):\n",
    "        sum += conf_avg[i][j]\n",
    "sum"
   ]
  },
  {
   "cell_type": "code",
   "execution_count": null,
   "id": "6161179f",
   "metadata": {},
   "outputs": [],
   "source": []
  }
 ],
 "metadata": {
  "kernelspec": {
   "display_name": "Python 3.10.8 64-bit",
   "language": "python",
   "name": "python3"
  },
  "language_info": {
   "codemirror_mode": {
    "name": "ipython",
    "version": 3
   },
   "file_extension": ".py",
   "mimetype": "text/x-python",
   "name": "python",
   "nbconvert_exporter": "python",
   "pygments_lexer": "ipython3",
   "version": "3.10.8"
  },
  "vscode": {
   "interpreter": {
    "hash": "b0fa6594d8f4cbf19f97940f81e996739fb7646882a419484c72d19e05852a7e"
   }
  }
 },
 "nbformat": 4,
 "nbformat_minor": 5
}
