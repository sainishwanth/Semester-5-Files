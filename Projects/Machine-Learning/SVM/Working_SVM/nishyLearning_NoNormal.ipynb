{
 "cells": [
  {
   "cell_type": "code",
   "execution_count": 3,
   "id": "d93469c9-a205-4bb7-8310-f87b755855d5",
   "metadata": {},
   "outputs": [],
   "source": [
    "import numpy as np\n",
    "import pandas as pd\n",
    "import matplotlib.pyplot as plt\n",
    "from matplotlib import style\n",
    "from sklearn.model_selection import train_test_split\n",
    "from sklearn.utils import shuffle\n",
    "from sklearn.metrics import accuracy_score\n",
    "import warnings\n",
    "warnings.filterwarnings(\"ignore\")"
   ]
  },
  {
   "cell_type": "code",
   "execution_count": 4,
   "id": "49489056-7bf3-49a5-abba-93a86045deac",
   "metadata": {},
   "outputs": [],
   "source": [
    "df = pd.read_csv('adult.data')"
   ]
  },
  {
   "cell_type": "code",
   "execution_count": 5,
   "id": "9e9dbe8c-b7ed-4697-a85b-98711c0e31e3",
   "metadata": {},
   "outputs": [],
   "source": [
    "# Removing all Columns without a continuous Attributes\n",
    "popColumns = ['workclass', 'education', 'maritalstatus', 'occupation', 'relationship', 'race', 'sex', 'nativecountry']\n",
    "for i in popColumns:\n",
    "    df.pop(i)\n",
    "pass"
   ]
  },
  {
   "cell_type": "code",
   "execution_count": 6,
   "id": "b4b19641-292b-4f6c-978d-ad7deb5ac5b6",
   "metadata": {},
   "outputs": [],
   "source": [
    "# Standardizing Salary Column since it is in the format of strings\n",
    "# If Salary == ' <50k' == -1\n",
    "# Else Salary == ' >50k' == 1\n",
    "npSalary = np.zeros((df.shape[0],1))\n",
    "for i in range(df.shape[0]):\n",
    "    npSalary[i][0] = -1 if df.iloc[i][6] == ' <=50K' else 1"
   ]
  },
  {
   "cell_type": "code",
   "execution_count": null,
   "id": "964849f9-3071-4a46-b178-474611342791",
   "metadata": {},
   "outputs": [],
   "source": [
    "#Normalizing Data in Mean and Unit Variance\n",
    "def normalization(df):\n",
    "    npNorm = np.zeros((df.shape[0],df.columns.size))\n",
    "    for i in range(df.columns.size-1):\n",
    "        mean_ = df.iloc[:,i].mean()\n",
    "        std_ = df.iloc[:,i].std()\n",
    "        for j in range(df.shape[0]):\n",
    "            npNorm[j][i] = (df.iloc[j][i]-mean_)/std_\n",
    "    return npNorm"
   ]
  },
  {
   "cell_type": "code",
   "execution_count": null,
   "id": "2078ff59-f3b8-4a76-95d1-31f6623fc8ea",
   "metadata": {},
   "outputs": [],
   "source": [
    "npNorm = normalization(df)"
   ]
  },
  {
   "cell_type": "code",
   "execution_count": null,
   "id": "46f5d91b-fd7e-4f44-a55d-b9cc74b16595",
   "metadata": {},
   "outputs": [],
   "source": [
    "df_norm = pd.DataFrame(npNorm)\n",
    "df_norm.header = False\n",
    "df_norm[6] = npSalary"
   ]
  },
  {
   "cell_type": "code",
   "execution_count": 7,
   "id": "9a3142e3-26d0-4223-a0d3-e366616613ef",
   "metadata": {},
   "outputs": [],
   "source": [
    "df['salary'] = npSalary"
   ]
  },
  {
   "cell_type": "code",
   "execution_count": 8,
   "id": "901eb478-a861-40be-87f0-068968fef4f0",
   "metadata": {},
   "outputs": [],
   "source": [
    "y = df.pop('salary')\n",
    "X = df"
   ]
  },
  {
   "cell_type": "code",
   "execution_count": 9,
   "id": "096ac3c8",
   "metadata": {},
   "outputs": [],
   "source": [
    "accuracyList = []"
   ]
  },
  {
   "cell_type": "code",
   "execution_count": 22,
   "id": "cee32fef-e9fc-4db2-bdbf-488f1d13bd2d",
   "metadata": {},
   "outputs": [],
   "source": [
    "class SVM:\n",
    "    def __init__(self, learningRate=0.1, regStrength=1e-2):\n",
    "        self.regStrength=regStrength\n",
    "        self.learningRate=learningRate\n",
    "\n",
    "    def computeCost(self, W, X, Y):\n",
    "        # calculate hinge loss\n",
    "        M = X.shape[0]\n",
    "        Y = np.array(Y)\n",
    "        distances = 1 - Y.reshape(1, -1) * (np.dot(X, W))\n",
    "        distances[distances < 0] = 0 \n",
    "        hinge_loss = self.regStrength * (np.sum(distances) / M)\n",
    "\n",
    "        cost = 1 / 2 * np.dot(np.transpose(W), W) + hinge_loss\n",
    "        return cost\n",
    "    \n",
    "    def calcCostGradient(self, W, X_batch, Y_batch):\n",
    "\n",
    "        Y_final= Y_batch.astype(np.float64)\n",
    "        X_final = X_batch\n",
    "        W_64 = W.astype(np.float64)\n",
    "        distance = 1 - (Y_final * np.dot(X_final, W_64))\n",
    "        dw = np.zeros(len(W_64))\n",
    "        dw = dw.reshape(-1, 1)\n",
    "        if all(item < 0 for item in distance):\n",
    "            di = W_64\n",
    "        else:\n",
    "            x_test = W_64 - ((self.regStrength * Y_final) * X_final.reshape(-1, 1))\n",
    "            di = x_test\n",
    "        dw += di\n",
    "        return dw\n",
    "    \n",
    "    def testAccuracy(self, X_test, weights):\n",
    "        y_test_predicted = np.ndarray(shape=(len(X_test), 1))\n",
    "        for i in range(X_test.shape[0]):\n",
    "            yp = np.sign(np.dot(np.transpose(weights), X_test.to_numpy()[i])) #model\n",
    "            y_test_predicted[i] = yp\n",
    "        return y_test_predicted\n",
    "\n",
    "    def validation(self, X_validate,weights, Y_validate):\n",
    "        finalWeights = list(weights)\n",
    "        results = self.testAccuracy(X_validate, finalWeights)\n",
    "        a = accuracy_score(Y_validate, results)\n",
    "        return (a / len(X_validate)) * 100\n",
    "\n",
    "    def sgd(self, features, outputs, maxEpochs):\n",
    "        weights = np.zeros(features.shape[1])\n",
    "        weights = weights.reshape(-1, 1)\n",
    "        epochs = 0\n",
    "        previousCost = float(\"inf\")\n",
    "        costTreshold = 0.01  \n",
    "        for epoch in range(1, maxEpochs):\n",
    "            print(f\"{epoch,}\", end = \" \")\n",
    "            X, Y = shuffle(features, outputs)\n",
    "            for i in range(0,len(X),300):\n",
    "                if (i % 30 == 0):\n",
    "                    validate = self.validation(features, weights, outputs)\n",
    "                    accuracyList.append(validate)\n",
    "                    try:\n",
    "                        ascent = self.calcCostGradient(weights, np.array(X.iloc[[i]]), Y[i])\n",
    "                        weights -= (self.learningRate * ascent)\n",
    "                    except:\n",
    "                        continue\n",
    "\n",
    "            if epoch == maxEpochs-1:\n",
    "                cost = self.computeCost(weights, features, outputs)\n",
    "                print(f\"Epoch is:{epoch} and Cost is: {cost}\")\n",
    "\n",
    "                if abs(previousCost - cost) < costTreshold * previousCost:\n",
    "                    return weights\n",
    "                previousCost = cost\n",
    "                epochs += 1\n",
    "        return weights\n",
    "           \n",
    "    def test(self, X_test, weights):\n",
    "        y_test_predicted = np.ndarray(shape=(len(X_test), 1))\n",
    "        for i in range(X_test.shape[0]):\n",
    "            yp = np.sign(np.dot(np.transpose(weights), X_test.to_numpy()[i])) #model\n",
    "            y_test_predicted[i] = yp\n",
    "        return y_test_predicted"
   ]
  },
  {
   "cell_type": "code",
   "execution_count": 23,
   "id": "e6d55558-7669-4b33-8d0c-d68cce06f11c",
   "metadata": {},
   "outputs": [],
   "source": [
    "model = SVM()"
   ]
  },
  {
   "cell_type": "code",
   "execution_count": 24,
   "id": "ee7f7a32-e0a0-4972-9065-9209c5f24305",
   "metadata": {},
   "outputs": [],
   "source": [
    "X_train, X_test_val, y_train, y_test_val = train_test_split( X, y, test_size=0.20, random_state=57)\n",
    "X_test, X_val, y_test, y_val = train_test_split( X_test_val, y_test_val, test_size=0.50, random_state=57)"
   ]
  },
  {
   "cell_type": "code",
   "execution_count": 25,
   "id": "c7d853ab-1629-4bca-9efb-ab88d3a46032",
   "metadata": {},
   "outputs": [
    {
     "name": "stdout",
     "output_type": "stream",
     "text": [
      "(1,) (2,) (3,) (4,) (5,) (6,) (7,) (8,) (9,) (10,) (11,) (12,) (13,) (14,) (15,) (16,) (17,) (18,) (19,) (20,) (21,) (22,) (23,) (24,) (25,) (26,) (27,) (28,) (29,) (30,) (31,) (32,) (33,) (34,) (35,) (36,) (37,) (38,) (39,) (40,) (41,) (42,) (43,) (44,) (45,) (46,) (47,) (48,) (49,) (50,) (51,) (52,) (53,) (54,) (55,) (56,) (57,) (58,) (59,) (60,) (61,) (62,) (63,) (64,) (65,) (66,) (67,) (68,) (69,) (70,) (71,) (72,) (73,) (74,) (75,) (76,) (77,) (78,) (79,) (80,) (81,) (82,) (83,) (84,) (85,) (86,) (87,) (88,) (89,) (90,) (91,) (92,) (93,) (94,) (95,) (96,) (97,) (98,) (99,) Epoch is:99 and Cost is: [[1.3780426e+09]]\n"
     ]
    }
   ],
   "source": [
    "weights = model.sgd(X_train, y_train, maxEpochs=100)"
   ]
  },
  {
   "cell_type": "code",
   "execution_count": 14,
   "id": "40708ef4-f578-456c-8e72-b2a5c863ded7",
   "metadata": {},
   "outputs": [
    {
     "data": {
      "text/plain": [
       "array([[9.38673993e-03],\n",
       "       [5.29718729e+00],\n",
       "       [1.00939147e-03],\n",
       "       [2.21248101e-01],\n",
       "       [1.23643460e-01],\n",
       "       [7.36491242e-03]])"
      ]
     },
     "execution_count": 14,
     "metadata": {},
     "output_type": "execute_result"
    }
   ],
   "source": [
    "weights"
   ]
  },
  {
   "cell_type": "code",
   "execution_count": 15,
   "id": "6c968047-3ae3-49ac-b84b-2a8724cdb628",
   "metadata": {},
   "outputs": [],
   "source": [
    "df_a = pd.DataFrame(model.test(X_val, weights), columns=['y_test_predicted'])"
   ]
  },
  {
   "cell_type": "code",
   "execution_count": 16,
   "id": "40ac7145-0323-42d8-b510-1b156097b80b",
   "metadata": {},
   "outputs": [
    {
     "data": {
      "text/plain": [
       "array([[   0, 2472],\n",
       "       [   0,  785]])"
      ]
     },
     "execution_count": 16,
     "metadata": {},
     "output_type": "execute_result"
    }
   ],
   "source": [
    "from sklearn.metrics import confusion_matrix as cm\n",
    "cm(y_val, df_a['y_test_predicted'])"
   ]
  },
  {
   "cell_type": "code",
   "execution_count": 17,
   "id": "1c184311-2b13-493d-a7a5-44a39fbbbcf9",
   "metadata": {},
   "outputs": [],
   "source": [
    "from matplotlib import pyplot as plt"
   ]
  },
  {
   "cell_type": "code",
   "execution_count": 18,
   "id": "cac24338-3f9e-4118-a9ef-db79549eadbf",
   "metadata": {},
   "outputs": [
    {
     "data": {
      "text/plain": [
       "[<matplotlib.lines.Line2D at 0x149330880>]"
      ]
     },
     "execution_count": 18,
     "metadata": {},
     "output_type": "execute_result"
    },
    {
     "data": {
      "image/png": "[encoded data removed]",
      "text/plain": [
       "<Figure size 432x288 with 1 Axes>"
      ]
     },
     "metadata": {
      "needs_background": "light"
     },
     "output_type": "display_data"
    }
   ],
   "source": [
    "plt.plot(accuracyList)"
   ]
  },
  {
   "cell_type": "code",
   "execution_count": 21,
   "id": "7f7ac41c-6947-4d02-bc04-7b8007c7f1d1",
   "metadata": {},
   "outputs": [
    {
     "name": "stdout",
     "output_type": "stream",
     "text": [
      "              precision    recall  f1-score   support\n",
      "\n",
      "        -1.0       0.00      0.00      0.00      2472\n",
      "         1.0       0.24      1.00      0.39       785\n",
      "\n",
      "    accuracy                           0.24      3257\n",
      "   macro avg       0.12      0.50      0.19      3257\n",
      "weighted avg       0.06      0.24      0.09      3257\n",
      "\n"
     ]
    }
   ],
   "source": [
    "from sklearn.metrics import classification_report as cr\n",
    "print(cr(y_val, df_a['y_test_predicted']))"
   ]
  },
  {
   "cell_type": "code",
   "execution_count": null,
   "id": "fd640781-eb88-4816-8ce9-c96564c12e49",
   "metadata": {},
   "outputs": [],
   "source": []
  }
 ],
 "metadata": {
  "kernelspec": {
   "display_name": "Python 3 (ipykernel)",
   "language": "python",
   "name": "python3"
  },
  "language_info": {
   "codemirror_mode": {
    "name": "ipython",
    "version": 3
   },
   "file_extension": ".py",
   "mimetype": "text/x-python",
   "name": "python",
   "nbconvert_exporter": "python",
   "pygments_lexer": "ipython3",
   "version": "3.9.13"
  },
  "vscode": {
   "interpreter": {
    "hash": "b0fa6594d8f4cbf19f97940f81e996739fb7646882a419484c72d19e05852a7e"
   }
  }
 },
 "nbformat": 4,
 "nbformat_minor": 5
}
