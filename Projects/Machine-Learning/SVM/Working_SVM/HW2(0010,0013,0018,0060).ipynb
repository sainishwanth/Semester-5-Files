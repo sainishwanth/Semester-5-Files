{
 "cells": [
  {
   "cell_type": "markdown",
   "id": "1c5cd197",
   "metadata": {},
   "source": [
    "The problem statement for the assignement is that we have to use svm and strocasticgradientdecisent for the given dataset of adults income with other features.\n",
    "Team members are:- ENG20AM0010 Anirudh Narayanan,\n",
    "                   Arham Asif Syed ENG20AM0013,\n",
    "                   Chandrashekar N ENG20AM0018 and\n",
    "                   Viswamber Prasad ENG20AM0060\n",
    "Gaurav helped in the assignement for the main svm class\n",
    "So the main thing is that we have to find plots for both normalized data and non normalized data for the same dataset, so here we want to find out how people earn less than $ 50,000 \n",
    "and \n",
    "greater than \n",
    "$ 50,000 based on some feature's \n",
    "Standardizing Salary Column since it is in the format of strings\n",
    "If Salary == ' <50k' == -1\n",
    "Else Salary == ' >50k' == 1"
   ]
  },
  {
   "cell_type": "code",
   "execution_count": 17,
   "id": "905be15a",
   "metadata": {},
   "outputs": [],
   "source": [
    "import numpy as np\n",
    "import pandas as pd\n",
    "import matplotlib.pyplot as plt\n",
    "from matplotlib import style\n",
    "from sklearn.model_selection import train_test_split\n",
    "from sklearn.utils import shuffle\n",
    "from sklearn.metrics import accuracy_score\n",
    "import warnings\n",
    "warnings.filterwarnings(\"ignore\")"
   ]
  },
  {
   "cell_type": "markdown",
   "id": "1dbd3dd8",
   "metadata": {},
   "source": [
    "Here we are reading the data and removing all the header in the file."
   ]
  },
  {
   "cell_type": "code",
   "execution_count": 18,
   "id": "49489056-7bf3-49a5-abba-93a86045deac",
   "metadata": {},
   "outputs": [],
   "source": [
    "df = pd.read_csv('adult.data')\n",
    "# Removing all Columns without a continuous Attributes\n",
    "PopColumns = ['workclass', 'education', 'maritalstatus', 'occupation', 'relationship', 'race', 'sex', 'nativecountry']\n",
    "for i in PopColumns:\n",
    "    df.pop(i)\n",
    "pass\n",
    "npSalary = np.zeros((df.shape[0],1))\n",
    "for i in range(df.shape[0]):\n",
    "    npSalary[i][0] = -1 if df.iloc[i][6] == ' <=50K' else 1"
   ]
  },
  {
   "cell_type": "markdown",
   "id": "380e8693",
   "metadata": {},
   "source": [
    "Here this the normalization function for the dataset we will use standard deviation and mean values for each colums to normalized. "
   ]
  },
  {
   "cell_type": "code",
   "execution_count": 19,
   "id": "4d8b1347-096a-430d-8d08-bc365f799129",
   "metadata": {},
   "outputs": [],
   "source": [
    "#Normalizing Data in Mean and Unit Variance\n",
    "def normalization(df):\n",
    "    Np_Norm = np.zeros((df.shape[0],df.columns.size))\n",
    "    for i in range(df.columns.size-1):\n",
    "        mean_ = df.iloc[:,i].mean()\n",
    "        std_ = df.iloc[:,i].std()\n",
    "        for j in range(df.shape[0]):\n",
    "            Np_Norm[j][i] = (df.iloc[j][i]-mean_)/std_\n",
    "    return Np_Norm\n",
    "Np_Norm = normalization(df)"
   ]
  },
  {
   "cell_type": "markdown",
   "id": "19b0c2b5",
   "metadata": {},
   "source": [
    "Here we are making converting the given normalized data into datafram in pandas and we are using empty list of accuracy to store accuracy result for each epochs."
   ]
  },
  {
   "cell_type": "code",
   "execution_count": 20,
   "id": "46f5d91b-fd7e-4f44-a55d-b9cc74b16595",
   "metadata": {},
   "outputs": [],
   "source": [
    "df_norm = pd.DataFrame(Np_Norm)\n",
    "df_norm.header = False\n",
    "df_norm[6] = npSalary\n",
    "AccuracyList = []"
   ]
  },
  {
   "cell_type": "code",
   "execution_count": 21,
   "id": "2630f20c-9453-4be1-b3bc-2170c03477a7",
   "metadata": {},
   "outputs": [],
   "source": [
    "y = df_norm.pop(6)\n",
    "X = df_norm"
   ]
  },
  {
   "cell_type": "markdown",
   "id": "1e3d977a",
   "metadata": {},
   "source": [
    "Here RegStrength is given the question where we will change the values based on this list {10−3, 10−2, 10−1, 1}. Next is fun for sgd and train test split "
   ]
  },
  {
   "cell_type": "code",
   "execution_count": 22,
   "id": "56bcd5ab",
   "metadata": {},
   "outputs": [],
   "source": [
    "X_train, X_test_val, y_train, y_test_val = train_test_split( X, y, test_size=0.20, random_state=57)\n",
    "X_test, X_val, y_test, y_val = train_test_split( X_test_val, y_test_val, test_size=0.50, random_state=57)"
   ]
  },
  {
   "cell_type": "code",
   "execution_count": 34,
   "id": "31f3da67-62d1-4980-b857-c080076369a2",
   "metadata": {},
   "outputs": [],
   "source": [
    "accuracyList = []"
   ]
  },
  {
   "cell_type": "code",
   "execution_count": 35,
   "id": "5e6229ee",
   "metadata": {},
   "outputs": [],
   "source": [
    "class SVM:\n",
    "    def __init__(self, learningRate=0.1, regStrength=1e-3):\n",
    "        self.regStrength=regStrength\n",
    "        self.learningRate=learningRate\n",
    "\n",
    "    def computeCost(self, W, X, Y):\n",
    "        # calculate hinge loss\n",
    "        M = X.shape[0]\n",
    "        Y = np.array(Y)\n",
    "        distances = 1 - Y.reshape(1, -1) * (np.dot(X, W))\n",
    "        distances[distances < 0] = 0 \n",
    "        hinge_loss = self.regStrength * (np.sum(distances) / M)\n",
    "\n",
    "        cost = 1 / 2 * np.dot(np.transpose(W), W) + hinge_loss\n",
    "        return cost\n",
    "    \n",
    "    def calcCostGradient(self, W, X_batch, Y_batch):\n",
    "\n",
    "        Y_final= Y_batch.astype(np.float64)\n",
    "        X_final = X_batch\n",
    "        W_64 = W.astype(np.float64)\n",
    "        distance = 1 - (Y_final * np.dot(X_final, W_64))\n",
    "        dw = np.zeros(len(W_64))\n",
    "        dw = dw.reshape(-1, 1)\n",
    "        if all(item < 0 for item in distance):\n",
    "            di = W_64\n",
    "        else:\n",
    "            x_test = W_64 - ((self.regStrength * Y_final) * X_final.reshape(-1, 1))\n",
    "            di = x_test\n",
    "        dw += di\n",
    "        return dw\n",
    "    \n",
    "    def testAccuracy(self, X_test, weights):\n",
    "        y_test_predicted = np.ndarray(shape=(len(X_test), 1))\n",
    "        for i in range(X_test.shape[0]):\n",
    "            yp = np.sign(np.dot(np.transpose(weights), X_test.to_numpy()[i])) #model\n",
    "            y_test_predicted[i] = yp\n",
    "        return y_test_predicted\n",
    "\n",
    "    def validation(self, X_validate,weights, Y_validate):\n",
    "        finalWeights = list(weights)\n",
    "        results = self.testAccuracy(X_validate, finalWeights)\n",
    "        a = accuracy_score(Y_validate, results)\n",
    "        return (a / len(X_validate)) * 100\n",
    "\n",
    "    def sgd(self, features, outputs, maxEpochs):\n",
    "        weights = np.zeros(features.shape[1])\n",
    "        weights = weights.reshape(-1, 1)\n",
    "        epochs = 0\n",
    "        previousCost = float(\"inf\")\n",
    "        costTreshold = 0.01  \n",
    "        for epoch in range(1, maxEpochs):\n",
    "            print(f\"{epoch,}\", end = \" \")\n",
    "            X, Y = shuffle(features, outputs)\n",
    "            for i in range(0,len(X),300):\n",
    "                if (i % 30 == 0):\n",
    "                    validate = self.validation(features, weights, outputs)\n",
    "                    accuracyList.append(validate)\n",
    "                    try:\n",
    "                        ascent = self.calcCostGradient(weights, np.array(X.iloc[[i]]), Y[i])\n",
    "                        weights -= (self.learningRate * ascent)\n",
    "                    except:\n",
    "                        continue\n",
    "\n",
    "            if epoch == maxEpochs-1:\n",
    "                cost = self.computeCost(weights, features, outputs)\n",
    "                print(f\"Epoch is:{epoch} and Cost is: {cost}\")\n",
    "\n",
    "                if abs(previousCost - cost) < costTreshold * previousCost:\n",
    "                    return weights\n",
    "                previousCost = cost\n",
    "                epochs += 1\n",
    "        return weights\n",
    "           \n",
    "    def test(self, X_test, weights):\n",
    "        y_test_predicted = np.ndarray(shape=(len(X_test), 1))\n",
    "        for i in range(X_test.shape[0]):\n",
    "            yp = np.sign(np.dot(np.transpose(weights), X_test.to_numpy()[i])) #model\n",
    "            y_test_predicted[i] = yp\n",
    "        return y_test_predicted"
   ]
  },
  {
   "cell_type": "code",
   "execution_count": 36,
   "id": "ef5e83bf",
   "metadata": {},
   "outputs": [],
   "source": [
    "model = SVM()"
   ]
  },
  {
   "cell_type": "code",
   "execution_count": 37,
   "id": "df55ee83-4500-45d2-8f35-b466c93ef4db",
   "metadata": {},
   "outputs": [
    {
     "name": "stdout",
     "output_type": "stream",
     "text": [
      "(1,) (2,) (3,) (4,) (5,) (6,) (7,) (8,) (9,) (10,) (11,) (12,) (13,) (14,) (15,) (16,) (17,) (18,) (19,) (20,) (21,) (22,) (23,) (24,) (25,) (26,) (27,) (28,) (29,) (30,) (31,) (32,) (33,) (34,) (35,) (36,) (37,) (38,) (39,) (40,) (41,) (42,) (43,) (44,) (45,) (46,) (47,) (48,) (49,) (50,) (51,) (52,) (53,) (54,) (55,) (56,) (57,) (58,) (59,) (60,) (61,) (62,) (63,) (64,) (65,) (66,) (67,) (68,) (69,) (70,) (71,) (72,) (73,) (74,) (75,) (76,) (77,) (78,) (79,) (80,) (81,) (82,) (83,) (84,) (85,) (86,) (87,) (88,) (89,) (90,) (91,) (92,) (93,) (94,) (95,) (96,) (97,) (98,) (99,) Epoch is:99 and Cost is: [[26.04800691]]\n"
     ]
    }
   ],
   "source": [
    "weight = model.sgd(X_train, y_train, 100)"
   ]
  },
  {
   "cell_type": "code",
   "execution_count": 38,
   "id": "6369bd78-fdb3-4415-b1b5-05897687d17f",
   "metadata": {},
   "outputs": [],
   "source": [
    "from matplotlib import pyplot as plt"
   ]
  },
  {
   "cell_type": "code",
   "execution_count": 39,
   "id": "f0eca3c8-204f-42bf-96f1-04c8a4fc01e7",
   "metadata": {},
   "outputs": [
    {
     "data": {
      "text/plain": [
       "[<matplotlib.lines.Line2D at 0x148900d60>]"
      ]
     },
     "execution_count": 39,
     "metadata": {},
     "output_type": "execute_result"
    },
    {
     "data": {
      "image/png": "[encoded data removed]",
      "text/plain": [
       "<Figure size 432x288 with 1 Axes>"
      ]
     },
     "metadata": {
      "needs_background": "light"
     },
     "output_type": "display_data"
    }
   ],
   "source": [
    "plt.plot(accuracyList)"
   ]
  },
  {
   "cell_type": "code",
   "execution_count": null,
   "id": "c1c61560-bcc5-4305-9d1f-b13f49cc87f4",
   "metadata": {},
   "outputs": [],
   "source": []
  }
 ],
 "metadata": {
  "kernelspec": {
   "display_name": "Python 3 (ipykernel)",
   "language": "python",
   "name": "python3"
  },
  "language_info": {
   "codemirror_mode": {
    "name": "ipython",
    "version": 3
   },
   "file_extension": ".py",
   "mimetype": "text/x-python",
   "name": "python",
   "nbconvert_exporter": "python",
   "pygments_lexer": "ipython3",
   "version": "3.9.13"
  },
  "vscode": {
   "interpreter": {
    "hash": "b0fa6594d8f4cbf19f97940f81e996739fb7646882a419484c72d19e05852a7e"
   }
  }
 },
 "nbformat": 4,
 "nbformat_minor": 5
}
