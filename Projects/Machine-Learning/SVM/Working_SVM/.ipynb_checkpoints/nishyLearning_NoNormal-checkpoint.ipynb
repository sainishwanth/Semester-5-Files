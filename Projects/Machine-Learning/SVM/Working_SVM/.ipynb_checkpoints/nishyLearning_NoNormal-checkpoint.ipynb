{
 "cells": [
  {
   "cell_type": "code",
   "execution_count": 152,
   "id": "d93469c9-a205-4bb7-8310-f87b755855d5",
   "metadata": {},
   "outputs": [],
   "source": [
    "import numpy as np\n",
    "import pandas as pd\n",
    "import matplotlib.pyplot as plt\n",
    "from matplotlib import style\n",
    "from sklearn.model_selection import train_test_split\n",
    "from sklearn.utils import shuffle\n",
    "from sklearn.metrics import accuracy_score\n",
    "import warnings\n",
    "warnings.filterwarnings(\"ignore\")"
   ]
  },
  {
   "cell_type": "code",
   "execution_count": 153,
   "id": "49489056-7bf3-49a5-abba-93a86045deac",
   "metadata": {},
   "outputs": [],
   "source": [
    "df = pd.read_csv('adult.data')"
   ]
  },
  {
   "cell_type": "code",
   "execution_count": 154,
   "id": "9e9dbe8c-b7ed-4697-a85b-98711c0e31e3",
   "metadata": {},
   "outputs": [],
   "source": [
    "# Removing all Columns without a continuous Attributes\n",
    "popColumns = ['workclass', 'education', 'maritalstatus', 'occupation', 'relationship', 'race', 'sex', 'nativecountry']\n",
    "for i in popColumns:\n",
    "    df.pop(i)\n",
    "pass"
   ]
  },
  {
   "cell_type": "code",
   "execution_count": 155,
   "id": "b4b19641-292b-4f6c-978d-ad7deb5ac5b6",
   "metadata": {},
   "outputs": [],
   "source": [
    "# Standardizing Salary Column since it is in the format of strings\n",
    "# If Salary == ' <50k' == -1\n",
    "# Else Salary == ' >50k' == 1\n",
    "npSalary = np.zeros((df.shape[0],1))\n",
    "for i in range(df.shape[0]):\n",
    "    npSalary[i][0] = -1 if df.iloc[i][6] == ' <=50K' else 1"
   ]
  },
  {
   "cell_type": "code",
   "execution_count": 156,
   "id": "964849f9-3071-4a46-b178-474611342791",
   "metadata": {},
   "outputs": [],
   "source": [
    "#Normalizing Data in Mean and Unit Variance\n",
    "def normalization(df):\n",
    "    npNorm = np.zeros((df.shape[0],df.columns.size))\n",
    "    for i in range(df.columns.size-1):\n",
    "        mean_ = df.iloc[:,i].mean()\n",
    "        std_ = df.iloc[:,i].std()\n",
    "        for j in range(df.shape[0]):\n",
    "            npNorm[j][i] = (df.iloc[j][i]-mean_)/std_\n",
    "    return npNorm"
   ]
  },
  {
   "cell_type": "code",
   "execution_count": 131,
   "id": "2078ff59-f3b8-4a76-95d1-31f6623fc8ea",
   "metadata": {},
   "outputs": [],
   "source": [
    "npNorm = normalization(df)"
   ]
  },
  {
   "cell_type": "code",
   "execution_count": 102,
   "id": "46f5d91b-fd7e-4f44-a55d-b9cc74b16595",
   "metadata": {},
   "outputs": [],
   "source": [
    "df_norm = pd.DataFrame(npNorm)\n",
    "df_norm.header = False\n",
    "df_norm[6] = npSalary"
   ]
  },
  {
   "cell_type": "code",
   "execution_count": 138,
   "id": "6f44336c-89f3-4780-a6f4-94461e388dba",
   "metadata": {},
   "outputs": [],
   "source": [
    "X = df"
   ]
  },
  {
   "cell_type": "code",
   "execution_count": 157,
   "id": "9a3142e3-26d0-4223-a0d3-e366616613ef",
   "metadata": {},
   "outputs": [],
   "source": [
    "df['salary'] = npSalary"
   ]
  },
  {
   "cell_type": "code",
   "execution_count": 158,
   "id": "901eb478-a861-40be-87f0-068968fef4f0",
   "metadata": {},
   "outputs": [],
   "source": [
    "y = df.pop('salary')"
   ]
  },
  {
   "cell_type": "code",
   "execution_count": 159,
   "id": "07b5f792-c9d0-47d0-82bd-eaa9efe5a629",
   "metadata": {},
   "outputs": [
    {
     "data": {
      "text/plain": [
       "0       -1.0\n",
       "1       -1.0\n",
       "2       -1.0\n",
       "3       -1.0\n",
       "4       -1.0\n",
       "        ... \n",
       "32556   -1.0\n",
       "32557    1.0\n",
       "32558   -1.0\n",
       "32559   -1.0\n",
       "32560    1.0\n",
       "Name: salary, Length: 32561, dtype: float64"
      ]
     },
     "execution_count": 159,
     "metadata": {},
     "output_type": "execute_result"
    }
   ],
   "source": [
    "y"
   ]
  },
  {
   "cell_type": "code",
   "execution_count": 160,
   "id": "e0766cbe-94b1-4560-9ac0-1632b31e23d0",
   "metadata": {},
   "outputs": [],
   "source": [
    "X = df"
   ]
  },
  {
   "cell_type": "code",
   "execution_count": 161,
   "id": "97307e32-d49b-4d10-a34c-96e006927e67",
   "metadata": {},
   "outputs": [
    {
     "data": {
      "text/html": [
       "<div>\n",
       "<style scoped>\n",
       "    .dataframe tbody tr th:only-of-type {\n",
       "        vertical-align: middle;\n",
       "    }\n",
       "\n",
       "    .dataframe tbody tr th {\n",
       "        vertical-align: top;\n",
       "    }\n",
       "\n",
       "    .dataframe thead th {\n",
       "        text-align: right;\n",
       "    }\n",
       "</style>\n",
       "<table border=\"1\" class=\"dataframe\">\n",
       "  <thead>\n",
       "    <tr style=\"text-align: right;\">\n",
       "      <th></th>\n",
       "      <th>age</th>\n",
       "      <th>fnlwgt</th>\n",
       "      <th>educationnum</th>\n",
       "      <th>capitalgain</th>\n",
       "      <th>capitalloss</th>\n",
       "      <th>hoursperweek</th>\n",
       "    </tr>\n",
       "  </thead>\n",
       "  <tbody>\n",
       "    <tr>\n",
       "      <th>0</th>\n",
       "      <td>39</td>\n",
       "      <td>77516</td>\n",
       "      <td>13</td>\n",
       "      <td>2174</td>\n",
       "      <td>0</td>\n",
       "      <td>40</td>\n",
       "    </tr>\n",
       "    <tr>\n",
       "      <th>1</th>\n",
       "      <td>50</td>\n",
       "      <td>83311</td>\n",
       "      <td>13</td>\n",
       "      <td>0</td>\n",
       "      <td>0</td>\n",
       "      <td>13</td>\n",
       "    </tr>\n",
       "    <tr>\n",
       "      <th>2</th>\n",
       "      <td>38</td>\n",
       "      <td>215646</td>\n",
       "      <td>9</td>\n",
       "      <td>0</td>\n",
       "      <td>0</td>\n",
       "      <td>40</td>\n",
       "    </tr>\n",
       "    <tr>\n",
       "      <th>3</th>\n",
       "      <td>53</td>\n",
       "      <td>234721</td>\n",
       "      <td>7</td>\n",
       "      <td>0</td>\n",
       "      <td>0</td>\n",
       "      <td>40</td>\n",
       "    </tr>\n",
       "    <tr>\n",
       "      <th>4</th>\n",
       "      <td>28</td>\n",
       "      <td>338409</td>\n",
       "      <td>13</td>\n",
       "      <td>0</td>\n",
       "      <td>0</td>\n",
       "      <td>40</td>\n",
       "    </tr>\n",
       "    <tr>\n",
       "      <th>...</th>\n",
       "      <td>...</td>\n",
       "      <td>...</td>\n",
       "      <td>...</td>\n",
       "      <td>...</td>\n",
       "      <td>...</td>\n",
       "      <td>...</td>\n",
       "    </tr>\n",
       "    <tr>\n",
       "      <th>32556</th>\n",
       "      <td>27</td>\n",
       "      <td>257302</td>\n",
       "      <td>12</td>\n",
       "      <td>0</td>\n",
       "      <td>0</td>\n",
       "      <td>38</td>\n",
       "    </tr>\n",
       "    <tr>\n",
       "      <th>32557</th>\n",
       "      <td>40</td>\n",
       "      <td>154374</td>\n",
       "      <td>9</td>\n",
       "      <td>0</td>\n",
       "      <td>0</td>\n",
       "      <td>40</td>\n",
       "    </tr>\n",
       "    <tr>\n",
       "      <th>32558</th>\n",
       "      <td>58</td>\n",
       "      <td>151910</td>\n",
       "      <td>9</td>\n",
       "      <td>0</td>\n",
       "      <td>0</td>\n",
       "      <td>40</td>\n",
       "    </tr>\n",
       "    <tr>\n",
       "      <th>32559</th>\n",
       "      <td>22</td>\n",
       "      <td>201490</td>\n",
       "      <td>9</td>\n",
       "      <td>0</td>\n",
       "      <td>0</td>\n",
       "      <td>20</td>\n",
       "    </tr>\n",
       "    <tr>\n",
       "      <th>32560</th>\n",
       "      <td>52</td>\n",
       "      <td>287927</td>\n",
       "      <td>9</td>\n",
       "      <td>15024</td>\n",
       "      <td>0</td>\n",
       "      <td>40</td>\n",
       "    </tr>\n",
       "  </tbody>\n",
       "</table>\n",
       "<p>32561 rows × 6 columns</p>\n",
       "</div>"
      ],
      "text/plain": [
       "       age  fnlwgt  educationnum  capitalgain  capitalloss  hoursperweek\n",
       "0       39   77516            13         2174            0            40\n",
       "1       50   83311            13            0            0            13\n",
       "2       38  215646             9            0            0            40\n",
       "3       53  234721             7            0            0            40\n",
       "4       28  338409            13            0            0            40\n",
       "...    ...     ...           ...          ...          ...           ...\n",
       "32556   27  257302            12            0            0            38\n",
       "32557   40  154374             9            0            0            40\n",
       "32558   58  151910             9            0            0            40\n",
       "32559   22  201490             9            0            0            20\n",
       "32560   52  287927             9        15024            0            40\n",
       "\n",
       "[32561 rows x 6 columns]"
      ]
     },
     "execution_count": 161,
     "metadata": {},
     "output_type": "execute_result"
    }
   ],
   "source": [
    "X"
   ]
  },
  {
   "cell_type": "code",
   "execution_count": 162,
   "id": "096ac3c8",
   "metadata": {},
   "outputs": [],
   "source": [
    "accuracyList = []"
   ]
  },
  {
   "cell_type": "code",
   "execution_count": 163,
   "id": "cee32fef-e9fc-4db2-bdbf-488f1d13bd2d",
   "metadata": {},
   "outputs": [],
   "source": [
    "class SVM:\n",
    "    def __init__(self, learningRate=0.1, regStrength=1e-2):\n",
    "        self.regStrength=regStrength\n",
    "        self.learningRate=learningRate\n",
    "\n",
    "    def computeCost(self, W, X, Y):\n",
    "        # calculate hinge loss\n",
    "        M = X.shape[0]\n",
    "        Y = np.array(Y)\n",
    "        distances = 1 - Y.reshape(1, -1) * (np.dot(X, W))\n",
    "        distances[distances < 0] = 0 \n",
    "        hinge_loss = self.regStrength * (np.sum(distances) / M)\n",
    "\n",
    "        cost = 1 / 2 * np.dot(np.transpose(W), W) + hinge_loss\n",
    "        return cost\n",
    "    \n",
    "    def calcCostGradient(self, W, X_batch, Y_batch):\n",
    "\n",
    "        Y_final= Y_batch.astype(np.float64)\n",
    "        X_final = X_batch\n",
    "        W_64 = W.astype(np.float64)\n",
    "        distance = 1 - (Y_final * np.dot(X_final, W_64))\n",
    "        dw = np.zeros(len(W_64))\n",
    "        dw = dw.reshape(-1, 1)\n",
    "        if all(item < 0 for item in distance):\n",
    "            di = W_64\n",
    "        else:\n",
    "            x_test = W_64 - ((self.regStrength * Y_final) * X_final.reshape(-1, 1))\n",
    "            di = x_test\n",
    "        dw += di\n",
    "        return dw\n",
    "    \n",
    "    def testAccuracy(self, X_test, weights):\n",
    "        y_test_predicted = np.ndarray(shape=(len(X_test), 1))\n",
    "        for i in range(X_test.shape[0]):\n",
    "            yp = np.sign(np.dot(np.transpose(weights), X_test.to_numpy()[i])) #model\n",
    "            y_test_predicted[i] = yp\n",
    "        return y_test_predicted\n",
    "\n",
    "    def validation(self, X_validate,weights, Y_validate):\n",
    "        finalWeights = list(weights)\n",
    "        results = self.testAccuracy(X_validate, finalWeights)\n",
    "        a = accuracy_score(Y_validate, results)\n",
    "        return (a / len(X_validate)) * 100\n",
    "\n",
    "    def sgd(self, features, outputs, maxEpochs):\n",
    "        weights = np.zeros(features.shape[1])\n",
    "        weights = weights.reshape(-1, 1)\n",
    "        epochs = 0\n",
    "        previousCost = float(\"inf\")\n",
    "        costTreshold = 0.01  \n",
    "        for epoch in range(1, maxEpochs):\n",
    "            \n",
    "            X, Y = shuffle(features, outputs)\n",
    "            for i in range(0,len(X),300):\n",
    "                if (i % 30 == 0):\n",
    "                    validate = self.validation(features, weights, outputs)\n",
    "                    accuracyList.append(validate)\n",
    "                    try:\n",
    "                        ascent = self.calcCostGradient(weights, np.array(X.iloc[[i]]), Y[i])\n",
    "                        weights -= (self.learningRate * ascent)\n",
    "                    except:\n",
    "                        continue\n",
    "\n",
    "            if epoch == maxEpochs-1:\n",
    "                cost = self.computeCost(weights, features, outputs)\n",
    "                print(f\"Epoch is:{epoch} and Cost is: {cost}\")\n",
    "\n",
    "                if abs(previousCost - cost) < costTreshold * previousCost:\n",
    "                    return weights\n",
    "                previousCost = cost\n",
    "                epochs += 1\n",
    "        return weights\n",
    "           \n",
    "    def test(self, X_test, weights):\n",
    "        y_test_predicted = np.ndarray(shape=(len(X_test), 1))\n",
    "        for i in range(X_test.shape[0]):\n",
    "            yp = np.sign(np.dot(np.transpose(weights), X_test.to_numpy()[i])) #model\n",
    "            y_test_predicted[i] = yp\n",
    "        return y_test_predicted"
   ]
  },
  {
   "cell_type": "code",
   "execution_count": 164,
   "id": "e6d55558-7669-4b33-8d0c-d68cce06f11c",
   "metadata": {},
   "outputs": [],
   "source": [
    "model = SVM()"
   ]
  },
  {
   "cell_type": "code",
   "execution_count": 165,
   "id": "ee7f7a32-e0a0-4972-9065-9209c5f24305",
   "metadata": {},
   "outputs": [],
   "source": [
    "X_train, X_test_val, y_train, y_test_val = train_test_split( X, y, test_size=0.20, random_state=57)\n",
    "X_test, X_val, y_test, y_val = train_test_split( X_test_val, y_test_val, test_size=0.50, random_state=57)"
   ]
  },
  {
   "cell_type": "code",
   "execution_count": 166,
   "id": "c7d853ab-1629-4bca-9efb-ab88d3a46032",
   "metadata": {},
   "outputs": [
    {
     "name": "stdout",
     "output_type": "stream",
     "text": [
      "Epoch is:99 and Cost is: [[95115154.8641869]]\n"
     ]
    }
   ],
   "source": [
    "weights = model.sgd(X_train, y_train, maxEpochs=100)"
   ]
  },
  {
   "cell_type": "code",
   "execution_count": 168,
   "id": "6c968047-3ae3-49ac-b84b-2a8724cdb628",
   "metadata": {},
   "outputs": [],
   "source": [
    "df_a = pd.DataFrame(model.test(X_val, weights), columns=['y_test_predicted'])"
   ]
  },
  {
   "cell_type": "code",
   "execution_count": 169,
   "id": "2c283488-3fed-4d15-a651-0b05be06b148",
   "metadata": {},
   "outputs": [
    {
     "data": {
      "text/plain": [
       "pandas.core.frame.DataFrame"
      ]
     },
     "execution_count": 169,
     "metadata": {},
     "output_type": "execute_result"
    }
   ],
   "source": [
    "type(df_a)"
   ]
  },
  {
   "cell_type": "code",
   "execution_count": 170,
   "id": "40ac7145-0323-42d8-b510-1b156097b80b",
   "metadata": {},
   "outputs": [
    {
     "data": {
      "text/plain": [
       "array([[   0, 2472],\n",
       "       [   6,  779]])"
      ]
     },
     "execution_count": 170,
     "metadata": {},
     "output_type": "execute_result"
    }
   ],
   "source": [
    "from sklearn.metrics import confusion_matrix as cm\n",
    "cm(y_val, df_a['y_test_predicted'])"
   ]
  },
  {
   "cell_type": "code",
   "execution_count": 167,
   "id": "8195c23b-1c4b-46c5-afbc-2331aa6b8ec9",
   "metadata": {},
   "outputs": [
    {
     "data": {
      "text/plain": [
       "array([[ 1.16437801e-02],\n",
       "       [ 2.55238640e+00],\n",
       "       [ 4.07190689e-03],\n",
       "       [-4.18500000e+00],\n",
       "       [ 2.86187659e-02],\n",
       "       [ 2.23575694e-02]])"
      ]
     },
     "execution_count": 167,
     "metadata": {},
     "output_type": "execute_result"
    }
   ],
   "source": [
    "weights"
   ]
  },
  {
   "cell_type": "code",
   "execution_count": 171,
   "id": "1c184311-2b13-493d-a7a5-44a39fbbbcf9",
   "metadata": {},
   "outputs": [],
   "source": [
    "from matplotlib import pyplot as plt"
   ]
  },
  {
   "cell_type": "code",
   "execution_count": 172,
   "id": "cac24338-3f9e-4118-a9ef-db79549eadbf",
   "metadata": {},
   "outputs": [
    {
     "data": {
      "text/plain": [
       "[<matplotlib.lines.Line2D at 0x152d2f700>]"
      ]
     },
     "execution_count": 172,
     "metadata": {},
     "output_type": "execute_result"
    },
    {
     "data": {
      "image/png": "[encoded data removed]",
      "text/plain": [
       "<Figure size 432x288 with 1 Axes>"
      ]
     },
     "metadata": {
      "needs_background": "light"
     },
     "output_type": "display_data"
    }
   ],
   "source": [
    "plt.plot(accuracyList)"
   ]
  },
  {
   "cell_type": "code",
   "execution_count": null,
   "id": "3a56b9ca-1e8c-480c-bf30-009644ecb56a",
   "metadata": {},
   "outputs": [],
   "source": []
  }
 ],
 "metadata": {
  "kernelspec": {
   "display_name": "Python 3 (ipykernel)",
   "language": "python",
   "name": "python3"
  },
  "language_info": {
   "codemirror_mode": {
    "name": "ipython",
    "version": 3
   },
   "file_extension": ".py",
   "mimetype": "text/x-python",
   "name": "python",
   "nbconvert_exporter": "python",
   "pygments_lexer": "ipython3",
   "version": "3.9.13"
  },
  "vscode": {
   "interpreter": {
    "hash": "b0fa6594d8f4cbf19f97940f81e996739fb7646882a419484c72d19e05852a7e"
   }
  }
 },
 "nbformat": 4,
 "nbformat_minor": 5
}
