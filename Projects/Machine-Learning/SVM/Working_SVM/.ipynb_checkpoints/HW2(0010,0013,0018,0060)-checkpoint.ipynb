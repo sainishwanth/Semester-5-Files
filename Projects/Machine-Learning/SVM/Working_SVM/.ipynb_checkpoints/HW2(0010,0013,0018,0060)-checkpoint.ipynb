{
 "cells": [
  {
   "cell_type": "markdown",
   "id": "1c5cd197",
   "metadata": {},
   "source": [
    "The problem statement for the assignement is that we have to use svm and strocasticgradientdecisent for the given dataset of adults income with other features.\n",
    "Team members are:- ENG20AM0010 Anirudh Narayanan,\n",
    "                   Arham Asif Syed ENG20AM0013,\n",
    "                   Chandrashekar N ENG20AM0018 and\n",
    "                   Viswamber Prasad ENG20AM0060\n",
    "Gaurav helped in the assignement for the main svm class\n",
    "So the main thing is that we have to find plots for both normalized data and non normalized data for the same dataset, so here we want to find out how people earn less than $ 50,000 \n",
    "and \n",
    "greater than \n",
    "$ 50,000 based on some feature's \n",
    "Standardizing Salary Column since it is in the format of strings\n",
    "If Salary == ' <50k' == -1\n",
    "Else Salary == ' >50k' == 1"
   ]
  },
  {
   "cell_type": "code",
   "execution_count": null,
   "id": "905be15a",
   "metadata": {},
   "outputs": [
    {
     "ename": "",
     "evalue": "",
     "output_type": "error",
     "traceback": [
      "\u001b[1;31mFailed to start the Kernel. \n",
      "\u001b[1;31mKernel Python 3.10.8 64-bit is not usable. Check the Jupyter output tab for more information. \n",
      "\u001b[1;31mView Jupyter <a href='command:jupyter.viewOutput'>log</a> for further details."
     ]
    }
   ],
   "source": [
    "import numpy as np\n",
    "import pandas as pd\n",
    "import matplotlib.pyplot as plt\n",
    "from matplotlib import style\n",
    "from sklearn.model_selection import train_test_split\n",
    "from sklearn.utils import shuffle\n",
    "from sklearn.metrics import accuracy_score\n",
    "import warnings\n",
    "warnings.filterwarnings(\"ignore\")"
   ]
  },
  {
   "cell_type": "markdown",
   "id": "1dbd3dd8",
   "metadata": {},
   "source": [
    "Here we are reading the data and removing all the header in the file."
   ]
  },
  {
   "cell_type": "code",
   "execution_count": 29,
   "id": "49489056-7bf3-49a5-abba-93a86045deac",
   "metadata": {},
   "outputs": [],
   "source": [
    "df = pd.read_csv('adult.data')\n",
    "# Removing all Columns without a continuous Attributes\n",
    "PopColumns = ['workclass', 'education', 'maritalstatus', 'occupation', 'relationship', 'race', 'sex', 'nativecountry']\n",
    "for i in PopColumns:\n",
    "    df.pop(i)\n",
    "pass\n",
    "npSalary = np.zeros((df.shape[0],1))\n",
    "for i in range(df.shape[0]):\n",
    "    npSalary[i][0] = -1 if df.iloc[i][6] == ' <=50K' else 1"
   ]
  },
  {
   "cell_type": "markdown",
   "id": "380e8693",
   "metadata": {},
   "source": [
    "Here this the normalization function for the dataset we will use standard deviation and mean values for each colums to normalized. "
   ]
  },
  {
   "cell_type": "code",
   "execution_count": 30,
   "id": "4d8b1347-096a-430d-8d08-bc365f799129",
   "metadata": {},
   "outputs": [],
   "source": [
    "#Normalizing Data in Mean and Unit Variance\n",
    "def normalization(df):\n",
    "    Np_Norm = np.zeros((df.shape[0],df.columns.size))\n",
    "    for i in range(df.columns.size-1):\n",
    "        mean_ = df.iloc[:,i].mean()\n",
    "        std_ = df.iloc[:,i].std()\n",
    "        for j in range(df.shape[0]):\n",
    "            Np_Norm[j][i] = (df.iloc[j][i]-mean_)/std_\n",
    "    return Np_Norm\n",
    "Np_Norm = normalization(df)"
   ]
  },
  {
   "cell_type": "markdown",
   "id": "19b0c2b5",
   "metadata": {},
   "source": [
    "Here we are making converting the given normalized data into datafram in pandas and we are using empty list of accuracy to store accuracy result for each epochs."
   ]
  },
  {
   "cell_type": "code",
   "execution_count": 31,
   "id": "46f5d91b-fd7e-4f44-a55d-b9cc74b16595",
   "metadata": {},
   "outputs": [],
   "source": [
    "df_norm = pd.DataFrame(Np_Norm)\n",
    "df_norm.header = False\n",
    "df_norm[6] = npSalary\n",
    "AccuracyList = []"
   ]
  },
  {
   "cell_type": "code",
   "execution_count": 32,
   "id": "2630f20c-9453-4be1-b3bc-2170c03477a7",
   "metadata": {},
   "outputs": [
    {
     "data": {
      "text/plain": [
       "0       -1.0\n",
       "1       -1.0\n",
       "2       -1.0\n",
       "3       -1.0\n",
       "4       -1.0\n",
       "        ... \n",
       "32556   -1.0\n",
       "32557    1.0\n",
       "32558   -1.0\n",
       "32559   -1.0\n",
       "32560    1.0\n",
       "Name: 6, Length: 32561, dtype: float64"
      ]
     },
     "execution_count": 32,
     "metadata": {},
     "output_type": "execute_result"
    }
   ],
   "source": [
    "y = df_norm[6]\n",
    "df_norm.pop(6)"
   ]
  },
  {
   "cell_type": "markdown",
   "id": "1e3d977a",
   "metadata": {},
   "source": [
    "Here RegStrength is given the question where we will change the values based on this list {10−3, 10−2, 10−1, 1}. Next is fun for sgd and train test split "
   ]
  },
  {
   "cell_type": "code",
   "execution_count": 33,
   "id": "56bcd5ab",
   "metadata": {},
   "outputs": [],
   "source": [
    "X_train, X_test_val, y_train, y_test_val = train_test_split( X, y, test_size=0.20, random_state=57)\n",
    "X_test, X_val, y_test, y_val = train_test_split( X_test_val, y_test_val, test_size=0.50, random_state=57)"
   ]
  },
  {
   "cell_type": "code",
   "execution_count": 67,
   "id": "5e6229ee",
   "metadata": {},
   "outputs": [],
   "source": [
    "def compute_cost(W, X, Y):\n",
    "    # calculate hinge loss\n",
    "    M = X.shape[0]\n",
    "    Y = np.array(Y)\n",
    "    distances = 1 - Y.reshape(1, -1) * (np.dot(X, W))\n",
    "    distances[distances < 0] = 0 \n",
    "    hinge_loss = reg_strength * (np.sum(distances) / M)\n",
    "\n",
    "    cost = 1 / 2 * np.dot(np.transpose(W), W) + hinge_loss\n",
    "    return cost\n",
    "    \n",
    "def calculate_cost_gradient(W, X_batch, Y_batch):\n",
    "        \n",
    "    Y_final= Y_batch.astype(np.float64)\n",
    "    X_final = X_batch\n",
    "    W_64 = W.astype(np.float64)\n",
    "    distance = 1 - (Y_final * np.dot(X_final, W_64))\n",
    "    dw = np.zeros(len(W_64))\n",
    "    dw = dw.reshape(-1, 1)\n",
    "    if all(item < 0 for item in distance):\n",
    "        di = W_64\n",
    "    else:\n",
    "        x_test = W_64 - ((reg_strength * Y_final) * X_final.reshape(-1, 1))\n",
    "        di = x_test\n",
    "    dw += di\n",
    "    return dw\n",
    "\n",
    "def validation(self, X_validate,weights, Y_validate):\n",
    "        finalWeights = list(weights)\n",
    "        results = self.Test_1_Accuracy(X_validate, finalWeights)\n",
    "        a = accuracy_score(Y_validate, results)\n",
    "        return (a / len(X_validate)) * 100\n",
    "\n",
    "def sgd(features, outputs, maxEpochs):\n",
    "    weights = np.zeros(features.shape[1])\n",
    "    weights = weights.reshape(-1, 1)\n",
    "    epochs = 0\n",
    "    prev_cost = float(\"inf\")\n",
    "    cost_thresh = 0.01  \n",
    "    \n",
    "    print(f\"Training model: \", end=\" \")\n",
    "    for Epoch in range(1, maxEpochs):\n",
    "            X, Y = shuffle(features, outputs)\n",
    "            for i in range(len(X), 130):\n",
    "                if (Epoch % 50 == 0):\n",
    "                    validate = self.Validation(features, weights, outputs)\n",
    "                    print(validate)\n",
    "                    AccuracyList.append(validate)\n",
    "                try:\n",
    "                    ascent = self.calcCostGradient(weights, np.array(X.iloc[[i]]), Y[i])\n",
    "                    weights = weights - (self.learningRate * ascent)\n",
    "                except:\n",
    "                    continue\n",
    "\n",
    "            if Epoch == maxEpochs - 1:\n",
    "                cost = self.computeCost(weights, features, outputs)\n",
    "                print(f\"Epoch is:{Epoch} and Cost is: {cost}\")\n",
    "\n",
    "                if abs(previousCost - cost) < costTreshold * previousCost:\n",
    "                    return weights\n",
    "                previousCost = cost\n",
    "                Epochs += 1\n",
    "            return weights\n",
    "    def Test_1(self, X_Test, weights):\n",
    "        y_Test_predicted = np.ndarray(shape=(len(X_Test), 1))\n",
    "        for i in range(X_Test.shape[0]):\n",
    "            yp = np.sign(np.dot(np.transpose(weights), X_Test.to_numpy()[i])) #model_1\n",
    "            y_Test_predicted = np.append(y_Test_predicted, yp[0])\n",
    "        return y_Test_predicted"
   ]
  },
  {
   "cell_type": "code",
   "execution_count": 71,
   "id": "ef5e83bf",
   "metadata": {},
   "outputs": [
    {
     "name": "stdout",
     "output_type": "stream",
     "text": [
      "Training model:  "
     ]
    }
   ],
   "source": [
    "RegStrength = 1e-3\n",
    "learning_rate = 0.1\n",
    "model = sgd(X_train, y_train, 50)"
   ]
  },
  {
   "cell_type": "markdown",
   "id": "a9909422",
   "metadata": {},
   "source": [
    "Here we are plotting all the graph with and without normalization function for some values in regStrength "
   ]
  },
  {
   "cell_type": "code",
   "execution_count": 69,
   "id": "6da2a48d",
   "metadata": {},
   "outputs": [
    {
     "data": {
      "image/png": "[encoded data removed]",
      "text/plain": [
       "<Figure size 640x480 with 1 Axes>"
      ]
     },
     "metadata": {},
     "output_type": "display_data"
    }
   ],
   "source": [
    "plt.plot(AccuracyList)\n",
    "plt.show()"
   ]
  },
  {
   "cell_type": "code",
   "execution_count": null,
   "id": "9b804619",
   "metadata": {},
   "outputs": [],
   "source": [
    "plt.plot(AccuracyList)\n",
    "plt.show()"
   ]
  },
  {
   "cell_type": "code",
   "execution_count": null,
   "id": "e5eddc17",
   "metadata": {},
   "outputs": [],
   "source": [
    "plt.plot(AccuracyList)\n",
    "plt.show()"
   ]
  },
  {
   "cell_type": "code",
   "execution_count": null,
   "id": "164f8826",
   "metadata": {},
   "outputs": [],
   "source": [
    "plt.plot(AccuracyList)\n",
    "plt.show()"
   ]
  },
  {
   "cell_type": "code",
   "execution_count": null,
   "id": "8cf0c598",
   "metadata": {},
   "outputs": [],
   "source": [
    "plt.plot(AccuracyList)\n",
    "plt.show()"
   ]
  },
  {
   "cell_type": "code",
   "execution_count": null,
   "id": "23e543a1",
   "metadata": {},
   "outputs": [],
   "source": [
    "plt.plot(AccuracyList)\n",
    "plt.show()"
   ]
  },
  {
   "cell_type": "code",
   "execution_count": null,
   "id": "604581b3",
   "metadata": {},
   "outputs": [],
   "source": [
    "plt.plot(AccuracyList)\n",
    "plt.show()"
   ]
  },
  {
   "cell_type": "code",
   "execution_count": null,
   "id": "886b95af",
   "metadata": {},
   "outputs": [],
   "source": [
    "plt.plot(AccuracyList)\n",
    "plt.show()"
   ]
  }
 ],
 "metadata": {
  "kernelspec": {
   "display_name": "Python 3 (ipykernel)",
   "language": "python",
   "name": "python3"
  },
  "language_info": {
   "codemirror_mode": {
    "name": "ipython",
    "version": 3
   },
   "file_extension": ".py",
   "mimetype": "text/x-python",
   "name": "python",
   "nbconvert_exporter": "python",
   "pygments_lexer": "ipython3",
   "version": "3.10.8"
  },
  "vscode": {
   "interpreter": {
    "hash": "b0fa6594d8f4cbf19f97940f81e996739fb7646882a419484c72d19e05852a7e"
   }
  }
 },
 "nbformat": 4,
 "nbformat_minor": 5
}
