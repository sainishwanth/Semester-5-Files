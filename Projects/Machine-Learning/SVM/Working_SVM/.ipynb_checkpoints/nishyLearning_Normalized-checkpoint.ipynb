{
 "cells": [
  {
   "cell_type": "code",
   "execution_count": 21,
   "id": "d93469c9-a205-4bb7-8310-f87b755855d5",
   "metadata": {},
   "outputs": [],
   "source": [
    "import numpy as np\n",
    "import pandas as pd\n",
    "import matplotlib.pyplot as plt\n",
    "from matplotlib import style\n",
    "from sklearn.model_selection import train_test_split\n",
    "from sklearn.utils import shuffle\n",
    "from sklearn.metrics import accuracy_score\n",
    "import warnings\n",
    "warnings.filterwarnings(\"ignore\")"
   ]
  },
  {
   "cell_type": "code",
   "execution_count": 60,
   "id": "49489056-7bf3-49a5-abba-93a86045deac",
   "metadata": {},
   "outputs": [],
   "source": [
    "df = pd.read_csv('adult.data')"
   ]
  },
  {
   "cell_type": "code",
   "execution_count": 62,
   "id": "9e9dbe8c-b7ed-4697-a85b-98711c0e31e3",
   "metadata": {},
   "outputs": [],
   "source": [
    "# Removing all Columns without a continuous Attributes\n",
    "popColumns = ['workclass', 'education', 'maritalstatus', 'occupation', 'relationship', 'race', 'sex', 'nativecountry']\n",
    "for i in popColumns:\n",
    "    df.pop(i)\n",
    "pass"
   ]
  },
  {
   "cell_type": "code",
   "execution_count": 24,
   "id": "b4b19641-292b-4f6c-978d-ad7deb5ac5b6",
   "metadata": {},
   "outputs": [],
   "source": [
    "# Standardizing Salary Column since it is in the format of strings\n",
    "# If Salary == ' <50k' == -1\n",
    "# Else Salary == ' >50k' == 1\n",
    "npSalary = np.zeros((df.shape[0],1))\n",
    "for i in range(df.shape[0]):\n",
    "    npSalary[i][0] = -1 if df.iloc[i][6] == ' <=50K' else 1"
   ]
  },
  {
   "cell_type": "code",
   "execution_count": 25,
   "id": "4d8b1347-096a-430d-8d08-bc365f799129",
   "metadata": {},
   "outputs": [],
   "source": [
    "#Normalizing Data in Mean and Unit Variance\n",
    "def normalization(df):\n",
    "    npNorm = np.zeros((df.shape[0],df.columns.size))\n",
    "    for i in range(df.columns.size-1):\n",
    "        mean_ = df.iloc[:,i].mean()\n",
    "        std_ = df.iloc[:,i].std()\n",
    "        for j in range(df.shape[0]):\n",
    "            npNorm[j][i] = (df.iloc[j][i]-mean_)/std_\n",
    "    return npNorm"
   ]
  },
  {
   "cell_type": "code",
   "execution_count": 26,
   "id": "2078ff59-f3b8-4a76-95d1-31f6623fc8ea",
   "metadata": {},
   "outputs": [],
   "source": [
    "npNorm = normalization(df)"
   ]
  },
  {
   "cell_type": "code",
   "execution_count": 27,
   "id": "46f5d91b-fd7e-4f44-a55d-b9cc74b16595",
   "metadata": {},
   "outputs": [],
   "source": [
    "df_norm = pd.DataFrame(npNorm)\n",
    "df_norm.header = False\n",
    "df_norm[6] = npSalary"
   ]
  },
  {
   "cell_type": "code",
   "execution_count": 51,
   "id": "096ac3c8",
   "metadata": {},
   "outputs": [],
   "source": [
    "accuracyList = []"
   ]
  },
  {
   "cell_type": "code",
   "execution_count": 30,
   "id": "2630f20c-9453-4be1-b3bc-2170c03477a7",
   "metadata": {},
   "outputs": [
    {
     "data": {
      "text/plain": [
       "0       -1.0\n",
       "1       -1.0\n",
       "2       -1.0\n",
       "3       -1.0\n",
       "4       -1.0\n",
       "        ... \n",
       "32556   -1.0\n",
       "32557    1.0\n",
       "32558   -1.0\n",
       "32559   -1.0\n",
       "32560    1.0\n",
       "Name: 6, Length: 32561, dtype: float64"
      ]
     },
     "execution_count": 30,
     "metadata": {},
     "output_type": "execute_result"
    }
   ],
   "source": [
    "y = df_norm[6]\n",
    "df_norm.pop(6)"
   ]
  },
  {
   "cell_type": "code",
   "execution_count": null,
   "id": "7876eda8",
   "metadata": {},
   "outputs": [],
   "source": [
    "regStrength = 1e-3"
   ]
  },
  {
   "cell_type": "code",
   "execution_count": 45,
   "id": "cee32fef-e9fc-4db2-bdbf-488f1d13bd2d",
   "metadata": {},
   "outputs": [],
   "source": [
    "class SVM:\n",
    "    def __init__(self, learningRate=0.1):\n",
    "        global regStrength\n",
    "        self.learningRate=learningRate\n",
    "\n",
    "    def computeCost(self, W, X, Y):\n",
    "        # calculate hinge loss\n",
    "        M = X.shape[0]\n",
    "        Y = np.array(Y)\n",
    "        distances = 1 - Y.reshape(1, -1) * (np.dot(X, W))\n",
    "        distances[distances < 0] = 0 \n",
    "        hinge_loss = self.regStrength * (np.sum(distances) / M)\n",
    "\n",
    "        cost = 1 / 2 * np.dot(np.transpose(W), W) + hinge_loss\n",
    "        return cost\n",
    "    \n",
    "    def calcCostGradient(self, W, X_batch, Y_batch):\n",
    "\n",
    "        Y_final= Y_batch.astype(np.float64)\n",
    "        X_final = X_batch\n",
    "        W_64 = W.astype(np.float64)\n",
    "        distance = 1 - (Y_final * np.dot(X_final, W_64))\n",
    "        dw = np.zeros(len(W_64))\n",
    "        dw = dw.reshape(-1, 1)\n",
    "        if all(item < 0 for item in distance):\n",
    "            di = W_64\n",
    "        else:\n",
    "            x_test = W_64 - ((self.regStrength * Y_final) * X_final.reshape(-1, 1))\n",
    "            di = x_test\n",
    "        dw += di\n",
    "        return dw\n",
    "    \n",
    "    def testAccuracy(X_test, weights):\n",
    "        y_test_predicted = np.ndarray(shape=(len(X_test), 1))\n",
    "        for i in range(X_test.shape[0]):\n",
    "            yp = np.sign(np.dot(np.transpose(weights), X_test.to_numpy()[i])) #model\n",
    "            y_test_predicted[i] = yp\n",
    "        return y_test_predicted\n",
    "\n",
    "    def validation(self, X_validate,weights, Y_validate):\n",
    "        finalWeights = list(weights)\n",
    "        results = self.testAccuracy(X_validate, finalWeights)\n",
    "        a = accuracy_score(Y_validate, results)\n",
    "        return (a / len(X_validate)) * 100\n",
    "\n",
    "    def sgd(self, features, outputs, maxEpochs):\n",
    "        weights = np.zeros(features.shape[1])\n",
    "        weights = weights.reshape(-1, 1)\n",
    "        epochs = 0\n",
    "        previousCost = float(\"inf\")\n",
    "        costTreshold = 0.01  \n",
    "\n",
    "        for epoch in range(1, maxEpochs):\n",
    "            X, Y = shuffle(features, outputs)\n",
    "            for i in range(len(X), 130):\n",
    "                if (epoch % 50 == 0):\n",
    "                    validate = self.validation(features, weights, outputs)\n",
    "                    print(validate)\n",
    "                    accuracyList.append(validate)\n",
    "                try:\n",
    "                    ascent = self.calcCostGradient(weights, np.array(X.iloc[[i]]), Y[i])\n",
    "                    weights = weights - (self.learningRate * ascent)\n",
    "                except:\n",
    "                    continue\n",
    "\n",
    "            if epoch == maxEpochs - 1:\n",
    "                cost = self.computeCost(weights, features, outputs)\n",
    "                print(f\"Epoch is:{epoch} and Cost is: {cost}\")\n",
    "\n",
    "                if abs(previousCost - cost) < costTreshold * previousCost:\n",
    "                    return weights\n",
    "                previousCost = cost\n",
    "                epochs += 1\n",
    "        return weights\n",
    "           \n",
    "    def test(self, X_test, weights):\n",
    "        y_test_predicted = np.ndarray(shape=(len(X_test), 1))\n",
    "        for i in range(X_test.shape[0]):\n",
    "            yp = np.sign(np.dot(np.transpose(weights), X_test.to_numpy()[i])) #model\n",
    "            y_test_predicted = np.append(y_test_predicted, yp[0])\n",
    "        return y_test_predicted"
   ]
  },
  {
   "cell_type": "code",
   "execution_count": 31,
   "id": "028e30bc-5028-4c02-8b54-0cd900c5dfa6",
   "metadata": {},
   "outputs": [],
   "source": [
    "X = df_norm"
   ]
  },
  {
   "cell_type": "code",
   "execution_count": 32,
   "id": "e6d55558-7669-4b33-8d0c-d68cce06f11c",
   "metadata": {},
   "outputs": [],
   "source": [
    "model = SVM()"
   ]
  },
  {
   "cell_type": "code",
   "execution_count": 49,
   "id": "ee7f7a32-e0a0-4972-9065-9209c5f24305",
   "metadata": {},
   "outputs": [],
   "source": [
    "X_train, X_test_val, y_train, y_test_val = train_test_split( X, y, test_size=0.20, random_state=57)\n",
    "X_test, X_val, y_test, y_val = train_test_split( X_test_val, y_test_val, test_size=0.50, random_state=57)"
   ]
  },
  {
   "cell_type": "code",
   "execution_count": 50,
   "id": "c7d853ab-1629-4bca-9efb-ab88d3a46032",
   "metadata": {},
   "outputs": [
    {
     "name": "stdout",
     "output_type": "stream",
     "text": [
      "0.017590416484690067\n",
      "0.010105534014784433\n",
      "0.020031958751321757\n",
      "0.01958889895776311\n",
      "0.01234911339493247\n",
      "Epoch is:299 and Cost is: [[26.04799376]]\n"
     ]
    }
   ],
   "source": [
    "weights = model.sgd(X_train, y_train, maxEpochs=100)"
   ]
  },
  {
   "cell_type": "code",
   "execution_count": 14,
   "id": "6c968047-3ae3-49ac-b84b-2a8724cdb628",
   "metadata": {},
   "outputs": [],
   "source": [
    "df_a = pd.DataFrame(model.test(X_val, weights), columns=['y_test_predicted'])"
   ]
  },
  {
   "cell_type": "code",
   "execution_count": 15,
   "id": "2c283488-3fed-4d15-a651-0b05be06b148",
   "metadata": {},
   "outputs": [
    {
     "data": {
      "text/plain": [
       "pandas.core.frame.DataFrame"
      ]
     },
     "execution_count": 15,
     "metadata": {},
     "output_type": "execute_result"
    }
   ],
   "source": [
    "type(df_a)"
   ]
  },
  {
   "cell_type": "code",
   "execution_count": 17,
   "id": "40ac7145-0323-42d8-b510-1b156097b80b",
   "metadata": {},
   "outputs": [
    {
     "ename": "ValueError",
     "evalue": "Found input variables with inconsistent numbers of samples: [3257, 6514]",
     "output_type": "error",
     "traceback": [
      "\u001b[0;31m---------------------------------------------------------------------------\u001b[0m",
      "\u001b[0;31mValueError\u001b[0m                                Traceback (most recent call last)",
      "Cell \u001b[0;32mIn [17], line 2\u001b[0m\n\u001b[1;32m      1\u001b[0m \u001b[39mfrom\u001b[39;00m \u001b[39msklearn\u001b[39;00m\u001b[39m.\u001b[39;00m\u001b[39mmetrics\u001b[39;00m \u001b[39mimport\u001b[39;00m confusion_matrix \u001b[39mas\u001b[39;00m cm\n\u001b[0;32m----> 2\u001b[0m cm(y_val, df_a[\u001b[39m'\u001b[39;49m\u001b[39my_test_predicted\u001b[39;49m\u001b[39m'\u001b[39;49m])\n",
      "File \u001b[0;32m/opt/homebrew/lib/python3.10/site-packages/sklearn/metrics/_classification.py:307\u001b[0m, in \u001b[0;36mconfusion_matrix\u001b[0;34m(y_true, y_pred, labels, sample_weight, normalize)\u001b[0m\n\u001b[1;32m    222\u001b[0m \u001b[39mdef\u001b[39;00m \u001b[39mconfusion_matrix\u001b[39m(\n\u001b[1;32m    223\u001b[0m     y_true, y_pred, \u001b[39m*\u001b[39m, labels\u001b[39m=\u001b[39m\u001b[39mNone\u001b[39;00m, sample_weight\u001b[39m=\u001b[39m\u001b[39mNone\u001b[39;00m, normalize\u001b[39m=\u001b[39m\u001b[39mNone\u001b[39;00m\n\u001b[1;32m    224\u001b[0m ):\n\u001b[1;32m    225\u001b[0m     \u001b[39m\"\"\"Compute confusion matrix to evaluate the accuracy of a classification.\u001b[39;00m\n\u001b[1;32m    226\u001b[0m \n\u001b[1;32m    227\u001b[0m \u001b[39m    By definition a confusion matrix :math:`C` is such that :math:`C_{i, j}`\u001b[39;00m\n\u001b[0;32m   (...)\u001b[0m\n\u001b[1;32m    305\u001b[0m \u001b[39m    (0, 2, 1, 1)\u001b[39;00m\n\u001b[1;32m    306\u001b[0m \u001b[39m    \"\"\"\u001b[39;00m\n\u001b[0;32m--> 307\u001b[0m     y_type, y_true, y_pred \u001b[39m=\u001b[39m _check_targets(y_true, y_pred)\n\u001b[1;32m    308\u001b[0m     \u001b[39mif\u001b[39;00m y_type \u001b[39mnot\u001b[39;00m \u001b[39min\u001b[39;00m (\u001b[39m\"\u001b[39m\u001b[39mbinary\u001b[39m\u001b[39m\"\u001b[39m, \u001b[39m\"\u001b[39m\u001b[39mmulticlass\u001b[39m\u001b[39m\"\u001b[39m):\n\u001b[1;32m    309\u001b[0m         \u001b[39mraise\u001b[39;00m \u001b[39mValueError\u001b[39;00m(\u001b[39m\"\u001b[39m\u001b[39m%s\u001b[39;00m\u001b[39m is not supported\u001b[39m\u001b[39m\"\u001b[39m \u001b[39m%\u001b[39m y_type)\n",
      "File \u001b[0;32m/opt/homebrew/lib/python3.10/site-packages/sklearn/metrics/_classification.py:84\u001b[0m, in \u001b[0;36m_check_targets\u001b[0;34m(y_true, y_pred)\u001b[0m\n\u001b[1;32m     57\u001b[0m \u001b[39mdef\u001b[39;00m \u001b[39m_check_targets\u001b[39m(y_true, y_pred):\n\u001b[1;32m     58\u001b[0m     \u001b[39m\"\"\"Check that y_true and y_pred belong to the same classification task.\u001b[39;00m\n\u001b[1;32m     59\u001b[0m \n\u001b[1;32m     60\u001b[0m \u001b[39m    This converts multiclass or binary types to a common shape, and raises a\u001b[39;00m\n\u001b[0;32m   (...)\u001b[0m\n\u001b[1;32m     82\u001b[0m \u001b[39m    y_pred : array or indicator matrix\u001b[39;00m\n\u001b[1;32m     83\u001b[0m \u001b[39m    \"\"\"\u001b[39;00m\n\u001b[0;32m---> 84\u001b[0m     check_consistent_length(y_true, y_pred)\n\u001b[1;32m     85\u001b[0m     type_true \u001b[39m=\u001b[39m type_of_target(y_true, input_name\u001b[39m=\u001b[39m\u001b[39m\"\u001b[39m\u001b[39my_true\u001b[39m\u001b[39m\"\u001b[39m)\n\u001b[1;32m     86\u001b[0m     type_pred \u001b[39m=\u001b[39m type_of_target(y_pred, input_name\u001b[39m=\u001b[39m\u001b[39m\"\u001b[39m\u001b[39my_pred\u001b[39m\u001b[39m\"\u001b[39m)\n",
      "File \u001b[0;32m/opt/homebrew/lib/python3.10/site-packages/sklearn/utils/validation.py:387\u001b[0m, in \u001b[0;36mcheck_consistent_length\u001b[0;34m(*arrays)\u001b[0m\n\u001b[1;32m    385\u001b[0m uniques \u001b[39m=\u001b[39m np\u001b[39m.\u001b[39munique(lengths)\n\u001b[1;32m    386\u001b[0m \u001b[39mif\u001b[39;00m \u001b[39mlen\u001b[39m(uniques) \u001b[39m>\u001b[39m \u001b[39m1\u001b[39m:\n\u001b[0;32m--> 387\u001b[0m     \u001b[39mraise\u001b[39;00m \u001b[39mValueError\u001b[39;00m(\n\u001b[1;32m    388\u001b[0m         \u001b[39m\"\u001b[39m\u001b[39mFound input variables with inconsistent numbers of samples: \u001b[39m\u001b[39m%r\u001b[39;00m\u001b[39m\"\u001b[39m\n\u001b[1;32m    389\u001b[0m         \u001b[39m%\u001b[39m [\u001b[39mint\u001b[39m(l) \u001b[39mfor\u001b[39;00m l \u001b[39min\u001b[39;00m lengths]\n\u001b[1;32m    390\u001b[0m     )\n",
      "\u001b[0;31mValueError\u001b[0m: Found input variables with inconsistent numbers of samples: [3257, 6514]"
     ]
    }
   ],
   "source": [
    "from sklearn.metrics import confusion_matrix as cm\n",
    "cm(y_val, df_a['y_test_predicted'])\n"
   ]
  },
  {
   "cell_type": "code",
   "execution_count": null,
   "id": "af5080f8-d582-44ca-9b8d-403819da8ec4",
   "metadata": {},
   "outputs": [],
   "source": []
  }
 ],
 "metadata": {
  "kernelspec": {
   "display_name": "Python 3.10.8 64-bit",
   "language": "python",
   "name": "python3"
  },
  "language_info": {
   "codemirror_mode": {
    "name": "ipython",
    "version": 3
   },
   "file_extension": ".py",
   "mimetype": "text/x-python",
   "name": "python",
   "nbconvert_exporter": "python",
   "pygments_lexer": "ipython3",
   "version": "3.10.8"
  },
  "vscode": {
   "interpreter": {
    "hash": "b0fa6594d8f4cbf19f97940f81e996739fb7646882a419484c72d19e05852a7e"
   }
  }
 },
 "nbformat": 4,
 "nbformat_minor": 5
}
