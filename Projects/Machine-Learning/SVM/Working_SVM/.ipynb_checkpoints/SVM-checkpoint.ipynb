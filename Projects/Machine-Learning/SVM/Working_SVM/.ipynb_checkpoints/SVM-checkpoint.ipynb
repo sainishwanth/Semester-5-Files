{
 "cells": [
  {
   "cell_type": "markdown",
   "metadata": {},
   "source": [
    "# Support Vector Machine"
   ]
  },
  {
   "cell_type": "code",
   "execution_count": 1,
   "metadata": {},
   "outputs": [],
   "source": [
    "import numpy as np\n",
    "import pandas as pd\n",
    "import sklearn\n",
    "import matplotlib.pyplot as plt \n",
    "import seaborn as sns\n",
    "\n",
    "from sklearn.model_selection import train_test_split\n",
    "from sklearn.utils import shuffle\n",
    "\n",
    "# Source:- https://www.folkstalk.com/2022/10/python-suppress-warning-with-code\n",
    "import warnings\n",
    "warnings.filterwarnings(\"ignore\")"
   ]
  },
  {
   "cell_type": "code",
   "execution_count": 2,
   "metadata": {},
   "outputs": [],
   "source": [
    "df_data = pd.read_csv('adultData.csv')\n",
    "df_test = pd.read_csv('adultTest.csv')"
   ]
  },
  {
   "cell_type": "code",
   "execution_count": 7,
   "metadata": {},
   "outputs": [],
   "source": [
    "df = 0"
   ]
  },
  {
   "cell_type": "code",
   "execution_count": 8,
   "metadata": {},
   "outputs": [
    {
     "data": {
      "text/plain": [
       "48842"
      ]
     },
     "execution_count": 8,
     "metadata": {},
     "output_type": "execute_result"
    }
   ],
   "source": [
    "df = df_data.append(df_test, ignore_index=True)\n",
    "len(df)"
   ]
  },
  {
   "cell_type": "code",
   "execution_count": 5,
   "metadata": {},
   "outputs": [],
   "source": [
    "names_to_drop = [\"education\",\n",
    "\"martial-status\",\n",
    "\"occupation\",\n",
    "\"race\",\n",
    "\"sex\",\n",
    "\"native\",\n",
    "\"work-class\", \"relationship\"]"
   ]
  },
  {
   "cell_type": "code",
   "execution_count": 11,
   "metadata": {},
   "outputs": [
    {
     "data": {
      "text/html": [
       "<div>\n",
       "<style scoped>\n",
       "    .dataframe tbody tr th:only-of-type {\n",
       "        vertical-align: middle;\n",
       "    }\n",
       "\n",
       "    .dataframe tbody tr th {\n",
       "        vertical-align: top;\n",
       "    }\n",
       "\n",
       "    .dataframe thead th {\n",
       "        text-align: right;\n",
       "    }\n",
       "</style>\n",
       "<table border=\"1\" class=\"dataframe\">\n",
       "  <thead>\n",
       "    <tr style=\"text-align: right;\">\n",
       "      <th></th>\n",
       "      <th>age</th>\n",
       "      <th>fnlwgt</th>\n",
       "      <th>education-num</th>\n",
       "      <th>capital-gain</th>\n",
       "      <th>capital-loss</th>\n",
       "      <th>hours-per-week</th>\n",
       "      <th>earnings</th>\n",
       "    </tr>\n",
       "  </thead>\n",
       "  <tbody>\n",
       "    <tr>\n",
       "      <th>0</th>\n",
       "      <td>39</td>\n",
       "      <td>77516</td>\n",
       "      <td>13</td>\n",
       "      <td>2174</td>\n",
       "      <td>0</td>\n",
       "      <td>40</td>\n",
       "      <td>&lt;=50K</td>\n",
       "    </tr>\n",
       "    <tr>\n",
       "      <th>1</th>\n",
       "      <td>50</td>\n",
       "      <td>83311</td>\n",
       "      <td>13</td>\n",
       "      <td>0</td>\n",
       "      <td>0</td>\n",
       "      <td>13</td>\n",
       "      <td>&lt;=50K</td>\n",
       "    </tr>\n",
       "    <tr>\n",
       "      <th>2</th>\n",
       "      <td>38</td>\n",
       "      <td>215646</td>\n",
       "      <td>9</td>\n",
       "      <td>0</td>\n",
       "      <td>0</td>\n",
       "      <td>40</td>\n",
       "      <td>&lt;=50K</td>\n",
       "    </tr>\n",
       "    <tr>\n",
       "      <th>3</th>\n",
       "      <td>53</td>\n",
       "      <td>234721</td>\n",
       "      <td>7</td>\n",
       "      <td>0</td>\n",
       "      <td>0</td>\n",
       "      <td>40</td>\n",
       "      <td>&lt;=50K</td>\n",
       "    </tr>\n",
       "    <tr>\n",
       "      <th>4</th>\n",
       "      <td>28</td>\n",
       "      <td>338409</td>\n",
       "      <td>13</td>\n",
       "      <td>0</td>\n",
       "      <td>0</td>\n",
       "      <td>40</td>\n",
       "      <td>&lt;=50K</td>\n",
       "    </tr>\n",
       "    <tr>\n",
       "      <th>...</th>\n",
       "      <td>...</td>\n",
       "      <td>...</td>\n",
       "      <td>...</td>\n",
       "      <td>...</td>\n",
       "      <td>...</td>\n",
       "      <td>...</td>\n",
       "      <td>...</td>\n",
       "    </tr>\n",
       "    <tr>\n",
       "      <th>48837</th>\n",
       "      <td>39</td>\n",
       "      <td>215419</td>\n",
       "      <td>13</td>\n",
       "      <td>0</td>\n",
       "      <td>0</td>\n",
       "      <td>36</td>\n",
       "      <td>&lt;=50K.</td>\n",
       "    </tr>\n",
       "    <tr>\n",
       "      <th>48838</th>\n",
       "      <td>64</td>\n",
       "      <td>321403</td>\n",
       "      <td>9</td>\n",
       "      <td>0</td>\n",
       "      <td>0</td>\n",
       "      <td>40</td>\n",
       "      <td>&lt;=50K.</td>\n",
       "    </tr>\n",
       "    <tr>\n",
       "      <th>48839</th>\n",
       "      <td>38</td>\n",
       "      <td>374983</td>\n",
       "      <td>13</td>\n",
       "      <td>0</td>\n",
       "      <td>0</td>\n",
       "      <td>50</td>\n",
       "      <td>&lt;=50K.</td>\n",
       "    </tr>\n",
       "    <tr>\n",
       "      <th>48840</th>\n",
       "      <td>44</td>\n",
       "      <td>83891</td>\n",
       "      <td>13</td>\n",
       "      <td>5455</td>\n",
       "      <td>0</td>\n",
       "      <td>40</td>\n",
       "      <td>&lt;=50K.</td>\n",
       "    </tr>\n",
       "    <tr>\n",
       "      <th>48841</th>\n",
       "      <td>35</td>\n",
       "      <td>182148</td>\n",
       "      <td>13</td>\n",
       "      <td>0</td>\n",
       "      <td>0</td>\n",
       "      <td>60</td>\n",
       "      <td>&gt;50K.</td>\n",
       "    </tr>\n",
       "  </tbody>\n",
       "</table>\n",
       "<p>48842 rows × 7 columns</p>\n",
       "</div>"
      ],
      "text/plain": [
       "       age  fnlwgt  education-num  capital-gain  capital-loss  hours-per-week  \\\n",
       "0       39   77516             13          2174             0              40   \n",
       "1       50   83311             13             0             0              13   \n",
       "2       38  215646              9             0             0              40   \n",
       "3       53  234721              7             0             0              40   \n",
       "4       28  338409             13             0             0              40   \n",
       "...    ...     ...            ...           ...           ...             ...   \n",
       "48837   39  215419             13             0             0              36   \n",
       "48838   64  321403              9             0             0              40   \n",
       "48839   38  374983             13             0             0              50   \n",
       "48840   44   83891             13          5455             0              40   \n",
       "48841   35  182148             13             0             0              60   \n",
       "\n",
       "      earnings  \n",
       "0        <=50K  \n",
       "1        <=50K  \n",
       "2        <=50K  \n",
       "3        <=50K  \n",
       "4        <=50K  \n",
       "...        ...  \n",
       "48837   <=50K.  \n",
       "48838   <=50K.  \n",
       "48839   <=50K.  \n",
       "48840   <=50K.  \n",
       "48841    >50K.  \n",
       "\n",
       "[48842 rows x 7 columns]"
      ]
     },
     "execution_count": 11,
     "metadata": {},
     "output_type": "execute_result"
    }
   ],
   "source": [
    "df"
   ]
  },
  {
   "cell_type": "code",
   "execution_count": 12,
   "metadata": {},
   "outputs": [],
   "source": [
    "y = df['earnings']\n",
    "X = df.drop('earnings', axis=1)"
   ]
  },
  {
   "cell_type": "code",
   "execution_count": 13,
   "metadata": {},
   "outputs": [],
   "source": [
    "np_norm = np.zeros((df.shape[0],df.columns.size))\n",
    "for i in range(X.columns.size):\n",
    "    mean_ = X.iloc[:,i].mean()\n",
    "    std_ = X.iloc[:,i].std()\n",
    "    def normalize(x):\n",
    "        return (x - mean_) / (std_)\n",
    "    X.iloc[:,i] = X.iloc[:,i].apply(normalize)"
   ]
  },
  {
   "cell_type": "code",
   "execution_count": 14,
   "metadata": {},
   "outputs": [],
   "source": [
    "def normLabels(x):\n",
    "    if x == \" <=50K.\":\n",
    "        return 0\n",
    "    else:\n",
    "        return 1\n",
    "    \n",
    "y = y.apply(normLabels)"
   ]
  },
  {
   "cell_type": "code",
   "execution_count": 15,
   "metadata": {},
   "outputs": [
    {
     "name": "stdout",
     "output_type": "stream",
     "text": [
      "12435 36407\n"
     ]
    }
   ],
   "source": [
    "count_0 = 0\n",
    "count_1 = 0\n",
    "for i in range(len(y)):\n",
    "    if y[i] == 0:\n",
    "        count_0 += 1\n",
    "    else:\n",
    "        count_1 += 1\n",
    "        \n",
    "print(count_0, count_1)"
   ]
  },
  {
   "cell_type": "code",
   "execution_count": 16,
   "metadata": {},
   "outputs": [],
   "source": [
    "X_train, X_test_val, y_train, y_test_val = train_test_split( X, y, test_size=0.20, random_state=57)\n",
    "X_test, X_val, y_test, y_val = train_test_split( X_test_val, y_test_val, test_size=0.50, random_state=57)"
   ]
  },
  {
   "cell_type": "code",
   "execution_count": 23,
   "metadata": {},
   "outputs": [],
   "source": [
    "def computeCost(W, X, Y):\n",
    "    # calculate hinge loss\n",
    "    M = X.shape[0]\n",
    "    Y = np.array(Y)\n",
    "    distances = 1 - Y.reshape(1, -1) * (np.dot(X, W))\n",
    "    distances[distances < 0] = 0 \n",
    "    hinge_loss = reg_strength * (np.sum(distances) / M)\n",
    "\n",
    "    cost = 1 / 2 * np.dot(np.transpose(W), W) + hinge_loss\n",
    "    return cost\n",
    "    \n",
    "def calcCostGradient(W, X_batch, Y_batch):\n",
    "        \n",
    "    Y_final= Y_batch.astype(np.float64)\n",
    "    X_final = X_batch\n",
    "    W_64 = W.astype(np.float64)\n",
    "    distance = 1 - (Y_final * np.dot(X_final, W_64))\n",
    "    dw = np.zeros(len(W_64))\n",
    "    dw = dw.reshape(-1, 1)\n",
    "    if all(item < 0 for item in distance):\n",
    "        di = W_64\n",
    "    else:\n",
    "        x_test = W_64 - ((reg_strength * Y_final) * X_final.reshape(-1, 1))\n",
    "        di = x_test\n",
    "    dw += di\n",
    "    return dw\n",
    "\n",
    "def sgd(features, outputs, max_epochs):\n",
    "    weights = np.zeros(features.shape[1])\n",
    "    weights = weights.reshape(-1, 1)\n",
    "    epochs = 0\n",
    "    prev_cost = float(\"inf\")\n",
    "    cost_thresh = 0.01  \n",
    "\n",
    "    for epoch in range(1, max_epochs):\n",
    "\n",
    "        X, Y = shuffle(features, outputs)\n",
    "        for i in range(len(X)):\n",
    "            try:\n",
    "                ascent = calcCostGradient(weights, np.array(X.iloc[[i]]), Y[i])\n",
    "                weights = weights - (learning_rate * ascent)\n",
    "            except:\n",
    "                continue\n",
    "            \n",
    "        if epoch == max_epochs - 1:\n",
    "            cost = computeCost(weights, features, outputs)\n",
    "            print(f\"Epoch is:{epoch} and Cost is: {cost}\")\n",
    "\n",
    "            if abs(prev_cost - cost) < cost_thresh * prev_cost:\n",
    "                return weights\n",
    "            prev_cost = cost\n",
    "            epochs += 1\n",
    "    return weights\n",
    "    \n",
    "def test(features, labels):\n",
    "    y_test_predicted = np.array([])\n",
    "    for i in range(X_test.shape[0]):\n",
    "        yp = np.sign(np.dot(W, X_test.to_numpy()[i])) #model\n",
    "        y_test_predicted = y_test_predicted.append(yp)\n",
    "        return y_test_predicted"
   ]
  },
  {
   "cell_type": "code",
   "execution_count": 24,
   "metadata": {},
   "outputs": [
    {
     "name": "stdout",
     "output_type": "stream",
     "text": [
      "Epoch is:299 and Cost is: [[39.07298757]]\n"
     ]
    }
   ],
   "source": [
    "reg_strength = 1e-3\n",
    "learning_rate = 0.1\n",
    "model = sgd(X_train, y_train, 300)"
   ]
  },
  {
   "cell_type": "code",
   "execution_count": 86,
   "metadata": {},
   "outputs": [
    {
     "name": "stdout",
     "output_type": "stream",
     "text": [
      "(4884, 6)\n"
     ]
    }
   ],
   "source": [
    "print(np.shape(X_test))"
   ]
  },
  {
   "cell_type": "code",
   "execution_count": 105,
   "metadata": {},
   "outputs": [],
   "source": [
    "def test(X_test, weights):\n",
    "    y_test_predicted = np.ndarray(shape=(len(X_test), 1))\n",
    "    for i in range(X_test.shape[0]):\n",
    "        yp = np.sign(np.dot(np.transpose(weights), X_test.to_numpy()[i])) #model\n",
    "        y_test_predicted = np.append(y_test_predicted, yp[0])\n",
    "        # y_test_predicted = y_test_predicted.append(int(yp[0]))\n",
    "    return y_test_predicted"
   ]
  },
  {
   "cell_type": "code",
   "execution_count": 106,
   "metadata": {},
   "outputs": [],
   "source": [
    "a = pd.DataFrame(test(X_val, model), columns=['y_test_predicted'])"
   ]
  },
  {
   "cell_type": "code",
   "execution_count": 107,
   "metadata": {},
   "outputs": [
    {
     "name": "stdout",
     "output_type": "stream",
     "text": [
      "<class 'pandas.core.frame.DataFrame'>\n"
     ]
    }
   ],
   "source": [
    "print(type(a))"
   ]
  },
  {
   "cell_type": "code",
   "execution_count": 108,
   "metadata": {},
   "outputs": [
    {
     "data": {
      "text/plain": [
       "4885"
      ]
     },
     "execution_count": 108,
     "metadata": {},
     "output_type": "execute_result"
    }
   ],
   "source": [
    "a = a[1::2]\n",
    "len(a)"
   ]
  },
  {
   "cell_type": "code",
   "execution_count": 109,
   "metadata": {},
   "outputs": [],
   "source": [
    "def normLabels(x):\n",
    "    if x > 0.5:\n",
    "        return 1\n",
    "    else:\n",
    "        return 0\n",
    "\n",
    "a['y_test_predicted'] = a['y_test_predicted'].apply(normLabels)"
   ]
  },
  {
   "cell_type": "code",
   "execution_count": 110,
   "metadata": {},
   "outputs": [
    {
     "name": "stdout",
     "output_type": "stream",
     "text": [
      "      y_test_predicted\n",
      "1                    0\n",
      "3                    0\n",
      "5                    0\n",
      "7                    0\n",
      "9                    0\n",
      "...                ...\n",
      "9761                 1\n",
      "9763                 0\n",
      "9765                 1\n",
      "9767                 0\n",
      "9769                 1\n",
      "\n",
      "[4885 rows x 1 columns]\n"
     ]
    }
   ],
   "source": [
    "print(a)"
   ]
  },
  {
   "cell_type": "code",
   "execution_count": 111,
   "metadata": {},
   "outputs": [
    {
     "data": {
      "text/plain": [
       "array([[ 910,  307],\n",
       "       [2731,  937]], dtype=int64)"
      ]
     },
     "execution_count": 111,
     "metadata": {},
     "output_type": "execute_result"
    }
   ],
   "source": [
    "from sklearn.metrics import confusion_matrix as cm\n",
    "\n",
    "cm(y_val, a['y_test_predicted'])\n"
   ]
  },
  {
   "cell_type": "code",
   "execution_count": 112,
   "metadata": {},
   "outputs": [
    {
     "data": {
      "text/plain": [
       "'              precision    recall  f1-score   support\\n\\n           0       0.25      0.75      0.37      1217\\n           1       0.75      0.26      0.38      3668\\n\\n    accuracy                           0.38      4885\\n   macro avg       0.50      0.50      0.38      4885\\nweighted avg       0.63      0.38      0.38      4885\\n'"
      ]
     },
     "execution_count": 112,
     "metadata": {},
     "output_type": "execute_result"
    }
   ],
   "source": [
    "from sklearn.metrics import classification_report as cr\n",
    "\n",
    "cr(y_val, a['y_test_predicted'])"
   ]
  },
  {
   "cell_type": "code",
   "execution_count": null,
   "metadata": {},
   "outputs": [],
   "source": []
  }
 ],
 "metadata": {
  "kernelspec": {
   "display_name": "Python 3.10.8 64-bit",
   "language": "python",
   "name": "python3"
  },
  "language_info": {
   "codemirror_mode": {
    "name": "ipython",
    "version": 3
   },
   "file_extension": ".py",
   "mimetype": "text/x-python",
   "name": "python",
   "nbconvert_exporter": "python",
   "pygments_lexer": "ipython3",
   "version": "3.10.8"
  },
  "orig_nbformat": 4,
  "vscode": {
   "interpreter": {
    "hash": "b0fa6594d8f4cbf19f97940f81e996739fb7646882a419484c72d19e05852a7e"
   }
  }
 },
 "nbformat": 4,
 "nbformat_minor": 2
}
