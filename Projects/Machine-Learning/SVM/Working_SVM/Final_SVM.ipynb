{
 "cells": [
  {
   "cell_type": "code",
   "execution_count": 1,
   "id": "d93469c9-a205-4bb7-8310-f87b755855d5",
   "metadata": {},
   "outputs": [],
   "source": [
    "import numpy as np\n",
    "import pandas as pd\n",
    "import matplotlib.pyplot as plt\n",
    "from matplotlib import style\n",
    "from sklearn.model_selection import train_test_split\n",
    "from sklearn.utils import shuffle\n",
    "import warnings\n",
    "warnings.filterwarnings(\"ignore\")"
   ]
  },
  {
   "cell_type": "code",
   "execution_count": 2,
   "id": "49489056-7bf3-49a5-abba-93a86045deac",
   "metadata": {},
   "outputs": [],
   "source": [
    "df = pd.read_csv('adult.data')"
   ]
  },
  {
   "cell_type": "code",
   "execution_count": 3,
   "id": "9e9dbe8c-b7ed-4697-a85b-98711c0e31e3",
   "metadata": {},
   "outputs": [],
   "source": [
    "# Removing all Columns without a continuous Attributes \n",
    "df.pop('workclass')\n",
    "df.pop('education')\n",
    "df.pop('maritalstatus')\n",
    "df.pop('occupation')\n",
    "df.pop('relationship')\n",
    "df.pop('race')\n",
    "df.pop('sex')\n",
    "df.pop('nativecountry')\n",
    "pass"
   ]
  },
  {
   "cell_type": "code",
   "execution_count": 4,
   "id": "b4b19641-292b-4f6c-978d-ad7deb5ac5b6",
   "metadata": {},
   "outputs": [],
   "source": [
    "#Standardizing Salary Column since it is in the format of strings\n",
    "#If Salary == ' <50k' == -1\n",
    "#Else Salary == ' >50k' == 1\n",
    "np_salary = np.zeros((df.shape[0],1))\n",
    "for i in range(df.shape[0]):\n",
    "    np_salary[i][0] = -1 if df.iloc[i][6] == ' <=50K' else 1"
   ]
  },
  {
   "cell_type": "code",
   "execution_count": 5,
   "id": "4d8b1347-096a-430d-8d08-bc365f799129",
   "metadata": {},
   "outputs": [],
   "source": [
    "#Normalizing Data in Mean and Unit Variance\n",
    "def normalization(df):\n",
    "    np_norm = np.zeros((df.shape[0],df.columns.size))\n",
    "    for i in range(df.columns.size-1):\n",
    "        mean_ = df.iloc[:,i].mean()\n",
    "        std_ = df.iloc[:,i].std()\n",
    "        for j in range(df.shape[0]):\n",
    "            np_norm[j][i] = (df.iloc[j][i]-mean_)/std_\n",
    "    return np_norm"
   ]
  },
  {
   "cell_type": "code",
   "execution_count": 6,
   "id": "2078ff59-f3b8-4a76-95d1-31f6623fc8ea",
   "metadata": {},
   "outputs": [],
   "source": [
    "np_norm = normalization(df)"
   ]
  },
  {
   "cell_type": "code",
   "execution_count": 7,
   "id": "46f5d91b-fd7e-4f44-a55d-b9cc74b16595",
   "metadata": {},
   "outputs": [],
   "source": [
    "df_norm = pd.DataFrame(np_norm)\n",
    "df_norm.header = False\n",
    "df_norm[6] = np_salary"
   ]
  },
  {
   "cell_type": "code",
   "execution_count": 8,
   "id": "cee32fef-e9fc-4db2-bdbf-488f1d13bd2d",
   "metadata": {},
   "outputs": [],
   "source": [
    "class SVM:\n",
    "    def __init__(self, reg_strength=1e-3, learning_rate=0.1):\n",
    "        self.reg_strength=reg_strength\n",
    "        self.learning_rate=learning_rate\n",
    "\n",
    "    def computeCost(self, W, X, Y):\n",
    "        # calculate hinge loss\n",
    "        M = X.shape[0]\n",
    "        Y = np.array(Y)\n",
    "        distances = 1 - Y.reshape(1, -1) * (np.dot(X, W))\n",
    "        distances[distances < 0] = 0 \n",
    "        hinge_loss = self.reg_strength * (np.sum(distances) / M)\n",
    "\n",
    "        cost = 1 / 2 * np.dot(np.transpose(W), W) + hinge_loss\n",
    "        return cost\n",
    "    \n",
    "    def calcCostGradient(self, W, X_batch, Y_batch):\n",
    "\n",
    "        Y_final= Y_batch.astype(np.float64)\n",
    "        X_final = X_batch\n",
    "        W_64 = W.astype(np.float64)\n",
    "        distance = 1 - (Y_final * np.dot(X_final, W_64))\n",
    "        dw = np.zeros(len(W_64))\n",
    "        dw = dw.reshape(-1, 1)\n",
    "        if all(item < 0 for item in distance):\n",
    "            di = W_64\n",
    "        else:\n",
    "            x_test = W_64 - ((self.reg_strength * Y_final) * X_final.reshape(-1, 1))\n",
    "            di = x_test\n",
    "        dw += di\n",
    "        return dw\n",
    "\n",
    "    def sgd(self, features, outputs, max_epochs):\n",
    "        weights = np.zeros(features.shape[1])\n",
    "        weights = weights.reshape(-1, 1)\n",
    "        epochs = 0\n",
    "        prev_cost = float(\"inf\")\n",
    "        cost_thresh = 0.01  \n",
    "\n",
    "        for epoch in range(1, max_epochs):\n",
    "\n",
    "            X, Y = shuffle(features, outputs)\n",
    "            for i in range(len(X)):\n",
    "                try:\n",
    "                    ascent = self.calcCostGradient(weights, np.array(X.iloc[[i]]), Y[i])\n",
    "                    weights = weights - (self.learning_rate * ascent)\n",
    "                except:\n",
    "                    continue\n",
    "\n",
    "            if epoch == max_epochs - 1:\n",
    "                cost = self.computeCost(weights, features, outputs)\n",
    "                print(f\"Epoch is:{epoch} and Cost is: {cost}\")\n",
    "\n",
    "                if abs(prev_cost - cost) < cost_thresh * prev_cost:\n",
    "                    return weights\n",
    "                prev_cost = cost\n",
    "                epochs += 1\n",
    "        return weights\n",
    "\n",
    "    # def test(self, features, labels):\n",
    "    #     y_test_predicted = np.array([])\n",
    "    #     for i in range(X_test.shape[0]):\n",
    "    #         yp = np.sign(np.dot(W, X_test.to_numpy()[i])) #model\n",
    "    #         y_test_predicted = y_test_predicted.append(yp)\n",
    "    #         return y_test_predicted\n",
    "        \n",
    "    def test(self, X_test, weights):\n",
    "        y_test_predicted = np.ndarray(shape=(len(X_test), 1))\n",
    "        for i in range(X_test.shape[0]):\n",
    "            yp = np.sign(np.dot(np.transpose(weights), X_test.to_numpy()[i])) #model\n",
    "            y_test_predicted = np.append(y_test_predicted, yp[0])\n",
    "            # y_test_predicted = y_test_predicted.append(int(yp[0]))\n",
    "        return y_test_predicted"
   ]
  },
  {
   "cell_type": "code",
   "execution_count": 9,
   "id": "2630f20c-9453-4be1-b3bc-2170c03477a7",
   "metadata": {},
   "outputs": [
    {
     "data": {
      "text/plain": [
       "0       -1.0\n",
       "1       -1.0\n",
       "2       -1.0\n",
       "3       -1.0\n",
       "4       -1.0\n",
       "        ... \n",
       "32556   -1.0\n",
       "32557    1.0\n",
       "32558   -1.0\n",
       "32559   -1.0\n",
       "32560    1.0\n",
       "Name: 6, Length: 32561, dtype: float64"
      ]
     },
     "execution_count": 9,
     "metadata": {},
     "output_type": "execute_result"
    }
   ],
   "source": [
    "y = df_norm[6]\n",
    "df_norm.pop(6)"
   ]
  },
  {
   "cell_type": "code",
   "execution_count": 10,
   "id": "028e30bc-5028-4c02-8b54-0cd900c5dfa6",
   "metadata": {},
   "outputs": [],
   "source": [
    "X = df_norm"
   ]
  },
  {
   "cell_type": "code",
   "execution_count": 11,
   "id": "e6d55558-7669-4b33-8d0c-d68cce06f11c",
   "metadata": {},
   "outputs": [],
   "source": [
    "model = SVM()"
   ]
  },
  {
   "cell_type": "code",
   "execution_count": 12,
   "id": "ee7f7a32-e0a0-4972-9065-9209c5f24305",
   "metadata": {},
   "outputs": [],
   "source": [
    "X_train, X_test_val, y_train, y_test_val = train_test_split( X, y, test_size=0.20, random_state=57)\n",
    "X_test, X_val, y_test, y_val = train_test_split( X_test_val, y_test_val, test_size=0.50, random_state=57)"
   ]
  },
  {
   "cell_type": "code",
   "execution_count": null,
   "id": "c7d853ab-1629-4bca-9efb-ab88d3a46032",
   "metadata": {},
   "outputs": [],
   "source": [
    "weights = model.sgd(X_train,y_train,max_epochs=300)"
   ]
  },
  {
   "cell_type": "code",
   "execution_count": 14,
   "id": "6c968047-3ae3-49ac-b84b-2a8724cdb628",
   "metadata": {},
   "outputs": [],
   "source": [
    "df_a = pd.DataFrame(model.test(X_val, weights), columns=['y_test_predicted'])"
   ]
  },
  {
   "cell_type": "code",
   "execution_count": 15,
   "id": "2c283488-3fed-4d15-a651-0b05be06b148",
   "metadata": {},
   "outputs": [
    {
     "data": {
      "text/plain": [
       "pandas.core.frame.DataFrame"
      ]
     },
     "execution_count": 15,
     "metadata": {},
     "output_type": "execute_result"
    }
   ],
   "source": [
    "type(df_a)"
   ]
  },
  {
   "cell_type": "code",
   "execution_count": 34,
   "id": "af5080f8-d582-44ca-9b8d-403819da8ec4",
   "metadata": {},
   "outputs": [
    {
     "name": "stdout",
     "output_type": "stream",
     "text": [
      "[[-9.56502258e-05]\n",
      " [ 2.55902074e-04]\n",
      " [ 1.47573380e-04]\n",
      " [ 1.03522149e-04]\n",
      " [ 1.26517134e-04]\n",
      " [-1.63373356e-04]]\n"
     ]
    }
   ],
   "source": [
    "print(weights)"
   ]
  },
  {
   "cell_type": "code",
   "execution_count": null,
   "id": "b888256e-227c-440d-845c-2f0e2f5e0181",
   "metadata": {},
   "outputs": [],
   "source": []
  }
 ],
 "metadata": {
  "kernelspec": {
   "display_name": "Python 3 (ipykernel)",
   "language": "python",
   "name": "python3"
  },
  "language_info": {
   "codemirror_mode": {
    "name": "ipython",
    "version": 3
   },
   "file_extension": ".py",
   "mimetype": "text/x-python",
   "name": "python",
   "nbconvert_exporter": "python",
   "pygments_lexer": "ipython3",
   "version": "3.9.13"
  }
 },
 "nbformat": 4,
 "nbformat_minor": 5
}
