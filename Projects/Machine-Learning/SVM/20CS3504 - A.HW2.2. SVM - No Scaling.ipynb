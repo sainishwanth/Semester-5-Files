{
 "cells": [
  {
   "cell_type": "code",
   "execution_count": 27,
   "id": "d93469c9-a205-4bb7-8310-f87b755855d5",
   "metadata": {},
   "outputs": [],
   "source": [
    "import numpy as np\n",
    "import pandas as pd\n",
    "import matplotlib.pyplot as plt\n",
    "from sklearn.model_selection import train_test_split as tts\n",
    "from sklearn.utils import shuffle\n",
    "from sklearn.metrics import accuracy_score\n",
    "from sklearn.metrics import confusion_matrix as cm\n",
    "import warnings\n",
    "warnings.filterwarnings(\"ignore\")"
   ]
  },
  {
   "cell_type": "code",
   "execution_count": 28,
   "id": "49489056-7bf3-49a5-abba-93a86045deac",
   "metadata": {},
   "outputs": [],
   "source": [
    "df = pd.read_csv('adult.data')"
   ]
  },
  {
   "cell_type": "code",
   "execution_count": 29,
   "id": "9e9dbe8c-b7ed-4697-a85b-98711c0e31e3",
   "metadata": {},
   "outputs": [],
   "source": [
    "# Removing all Columns without a continuous Attributes\n",
    "popColumns = ['workclass', 'education', 'maritalstatus', 'occupation', 'relationship', 'race', 'sex', 'nativecountry']\n",
    "for i in popColumns:\n",
    "    df.pop(i)\n",
    "pass"
   ]
  },
  {
   "cell_type": "code",
   "execution_count": 30,
   "id": "b4b19641-292b-4f6c-978d-ad7deb5ac5b6",
   "metadata": {},
   "outputs": [],
   "source": [
    "# Standardizing Salary Column since it is in the format of strings\n",
    "# If Salary == ' <50k' == -1\n",
    "# Else Salary == ' >50k' == 1\n",
    "arrSalary = np.zeros((df.shape[0],1))\n",
    "for i in range(df.shape[0]):\n",
    "    arrSalary[i][0] = -1 if df.iloc[i][6] == ' <=50K' else 1"
   ]
  },
  {
   "cell_type": "code",
   "execution_count": 38,
   "id": "0aca9326",
   "metadata": {},
   "outputs": [],
   "source": [
    "df['salary'] = arrSalary\n",
    "y = df.pop('salary')\n",
    "X = df\n",
    "accuracyList = []\n",
    "regStrength = 1e-1\n",
    "learningRate = 0.1"
   ]
  },
  {
   "cell_type": "code",
   "execution_count": 39,
   "id": "cee32fef-e9fc-4db2-bdbf-488f1d13bd2d",
   "metadata": {},
   "outputs": [],
   "source": [
    "class SVM:\n",
    "    def __init__(self):\n",
    "        global regStrength\n",
    "        global learningRate\n",
    "\n",
    "    def computeCost(self, W, X, Y):\n",
    "        # calculate hinge loss\n",
    "        M = X.shape[0]\n",
    "        Y = np.array(Y)\n",
    "        distances = 1 - Y.reshape(1, -1) * (np.dot(X, W))\n",
    "        distances[distances < 0] = 0 \n",
    "        hingeLoss = regStrength * (np.sum(distances) / M)\n",
    "\n",
    "        cost = 1 / 2 * np.dot(np.transpose(W), W) + hingeLoss\n",
    "        return cost\n",
    "    \n",
    "    def calcCostGradient(self, W, X_batch, Y_batch):\n",
    "\n",
    "        Y_final= Y_batch.astype(np.float64)\n",
    "        X_final = X_batch\n",
    "        W_64 = W.astype(np.float64)\n",
    "        distance = 1 - (Y_final * np.dot(X_final, W_64))\n",
    "        dw = np.zeros(len(W_64))\n",
    "        dw = dw.reshape(-1, 1)\n",
    "        if all(item < 0 for item in distance):\n",
    "            di = W_64\n",
    "        else:\n",
    "            x_test = W_64 - ((regStrength * Y_final) * X_final.reshape(-1, 1))\n",
    "            di = x_test\n",
    "        dw += di\n",
    "        return dw\n",
    "    \n",
    "    def testAccuracy(self, X_test, weights):\n",
    "        y_test_predicted = np.ndarray(shape=(len(X_test), 1))\n",
    "        for i in range(X_test.shape[0]):\n",
    "            yp = np.sign(np.dot(np.transpose(weights), X_test.to_numpy()[i])) #model\n",
    "            y_test_predicted[i] = yp\n",
    "        return y_test_predicted\n",
    "\n",
    "    def validation(self, X_validate,weights, Y_validate):\n",
    "        finalWeights = list(weights)\n",
    "        results = self.testAccuracy(X_validate, finalWeights)\n",
    "        a = accuracy_score(Y_validate, results)\n",
    "        return (a / len(X_validate)) * 100\n",
    "\n",
    "    def sgd(self, features, outputs, maxEpochs):\n",
    "        weights = np.zeros(features.shape[1])\n",
    "        weights = weights.reshape(-1, 1)\n",
    "        epochs = 0\n",
    "        previousCost = float(\"inf\")\n",
    "        costTreshold = 0.01  \n",
    "        for epoch in range(1, maxEpochs):\n",
    "            print(f\"{epoch}\", end = \" \")\n",
    "            X, Y = shuffle(features, outputs)\n",
    "            for i in range(0,len(X),300):\n",
    "                if (i % 30 == 0):\n",
    "                    validate = self.validation(features, weights, outputs)\n",
    "                    accuracyList.append(validate)\n",
    "                    try:\n",
    "                        ascent = self.calcCostGradient(weights, np.array(X.iloc[[i]]), Y[i])\n",
    "                        weights -= (learningRate * ascent)\n",
    "                    except:\n",
    "                        continue\n",
    "\n",
    "            if epoch == maxEpochs:\n",
    "                cost = self.computeCost(weights, features, outputs)\n",
    "                print(f\"Epoch is: {epoch} and Cost is: {cost}\")\n",
    "\n",
    "                if abs(previousCost - cost) < costTreshold * previousCost:\n",
    "                    return weights\n",
    "                previousCost = cost\n",
    "                epochs += 1\n",
    "        return weights\n",
    "           \n",
    "    def test(self, X_test, weights):\n",
    "        y_test_predicted = np.ndarray(shape=(len(X_test), 1))\n",
    "        for i in range(X_test.shape[0]):\n",
    "            yp = np.sign(np.dot(np.transpose(weights), X_test.to_numpy()[i])) #model\n",
    "            y_test_predicted[i] = yp\n",
    "        return y_test_predicted"
   ]
  },
  {
   "cell_type": "code",
   "execution_count": 40,
   "id": "ee7f7a32-e0a0-4972-9065-9209c5f24305",
   "metadata": {},
   "outputs": [],
   "source": [
    "X_train, X_test_val, y_train, y_test_val = tts( X, y, test_size=0.20, random_state=69)\n",
    "X_test, X_val, y_test, y_val = tts( X_test_val, y_test_val, test_size=0.50, random_state=69)"
   ]
  },
  {
   "cell_type": "code",
   "execution_count": 41,
   "id": "34f0e70a-3078-4bad-b116-6830d0cb21f8",
   "metadata": {},
   "outputs": [
    {
     "name": "stdout",
     "output_type": "stream",
     "text": [
      "1 2 3 4 5 6 7 8 9 10 11 12 13 14 15 16 17 18 19 20 21 22 23 24 25 26 27 28 29 30 31 32 33 34 35 36 37 38 39 40 41 42 43 44 45 46 47 48 49 50 51 52 53 54 55 56 57 58 59 60 61 62 63 64 65 66 67 68 69 70 71 72 73 74 75 76 77 78 79 80 81 82 83 84 85 86 87 88 89 90 91 92 93 94 95 96 97 98 99 "
     ]
    }
   ],
   "source": [
    "model = SVM()\n",
    "weights = model.sgd(X_train, y_train, maxEpochs=100)"
   ]
  },
  {
   "cell_type": "code",
   "execution_count": 48,
   "id": "6c968047-3ae3-49ac-b84b-2a8724cdb628",
   "metadata": {},
   "outputs": [
    {
     "data": {
      "text/plain": [
       "array([[   0, 2493],\n",
       "       [   0,  764]])"
      ]
     },
     "execution_count": 48,
     "metadata": {},
     "output_type": "execute_result"
    }
   ],
   "source": [
    "dfFinal = pd.DataFrame(model.test(X_val, weights), columns=['y_test_predicted'])\n",
    "cm(y_val, dfFinal['y_test_predicted'])"
   ]
  },
  {
   "cell_type": "code",
   "execution_count": 43,
   "id": "cac24338-3f9e-4118-a9ef-db79549eadbf",
   "metadata": {},
   "outputs": [
    {
     "data": {
      "text/plain": [
       "[<matplotlib.lines.Line2D at 0x14b4366d0>]"
      ]
     },
     "execution_count": 43,
     "metadata": {},
     "output_type": "execute_result"
    },
    {
     "data": {
      "image/png": "[encoded data removed]",
      "text/plain": [
       "<Figure size 432x288 with 1 Axes>"
      ]
     },
     "metadata": {
      "needs_background": "light"
     },
     "output_type": "display_data"
    }
   ],
   "source": [
    "plt.plot(accuracyList)"
   ]
  },
  {
   "cell_type": "code",
   "execution_count": 47,
   "id": "132e570d-fa80-492b-859e-88a88869f4fe",
   "metadata": {},
   "outputs": [
    {
     "data": {
      "text/plain": [
       "array([[-5.86160328e-01],\n",
       "       [ 7.91584385e+02],\n",
       "       [-5.80363129e-03],\n",
       "       [-1.53526674e+01],\n",
       "       [ 1.12279245e+00],\n",
       "       [-5.17572059e-01]])"
      ]
     },
     "execution_count": 47,
     "metadata": {},
     "output_type": "execute_result"
    }
   ],
   "source": [
    "weights"
   ]
  },
  {
   "cell_type": "code",
   "execution_count": 49,
   "id": "05105ebf-1746-4c21-b0f2-0638aaad294c",
   "metadata": {},
   "outputs": [
    {
     "name": "stdout",
     "output_type": "stream",
     "text": [
      "              precision    recall  f1-score   support\n",
      "\n",
      "        -1.0       0.00      0.00      0.00      2493\n",
      "         1.0       0.23      1.00      0.38       764\n",
      "\n",
      "    accuracy                           0.23      3257\n",
      "   macro avg       0.12      0.50      0.19      3257\n",
      "weighted avg       0.06      0.23      0.09      3257\n",
      "\n"
     ]
    }
   ],
   "source": [
    "from sklearn.metrics import classification_report as cr\n",
    "print(cr(y_val, dfFinal['y_test_predicted']))"
   ]
  },
  {
   "cell_type": "code",
   "execution_count": null,
   "id": "8a914161-4012-4809-b1d0-5b559b829849",
   "metadata": {},
   "outputs": [],
   "source": []
  }
 ],
 "metadata": {
  "kernelspec": {
   "display_name": "Python 3 (ipykernel)",
   "language": "python",
   "name": "python3"
  },
  "language_info": {
   "codemirror_mode": {
    "name": "ipython",
    "version": 3
   },
   "file_extension": ".py",
   "mimetype": "text/x-python",
   "name": "python",
   "nbconvert_exporter": "python",
   "pygments_lexer": "ipython3",
   "version": "3.9.13"
  },
  "vscode": {
   "interpreter": {
    "hash": "b0fa6594d8f4cbf19f97940f81e996739fb7646882a419484c72d19e05852a7e"
   }
  }
 },
 "nbformat": 4,
 "nbformat_minor": 5
}
