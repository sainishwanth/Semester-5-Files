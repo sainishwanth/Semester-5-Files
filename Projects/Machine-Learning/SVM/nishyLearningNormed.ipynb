{
 "cells": [
  {
   "cell_type": "code",
   "execution_count": 1,
   "id": "d93469c9-a205-4bb7-8310-f87b755855d5",
   "metadata": {},
   "outputs": [],
   "source": [
    "import numpy as np\n",
    "import pandas as pd\n",
    "import matplotlib.pyplot as plt\n",
    "from matplotlib import style\n",
    "from sklearn.model_selection import train_test_split\n",
    "from sklearn.utils import shuffle\n",
    "from sklearn.metrics import accuracy_score\n",
    "import warnings\n",
    "warnings.filterwarnings(\"ignore\")"
   ]
  },
  {
   "cell_type": "code",
   "execution_count": 2,
   "id": "49489056-7bf3-49a5-abba-93a86045deac",
   "metadata": {},
   "outputs": [],
   "source": [
    "df = pd.read_csv('adult.data')"
   ]
  },
  {
   "cell_type": "code",
   "execution_count": 3,
   "id": "9e9dbe8c-b7ed-4697-a85b-98711c0e31e3",
   "metadata": {},
   "outputs": [],
   "source": [
    "# Removing all Columns without a continuous Attributes\n",
    "popColumns = ['workclass', 'education', 'maritalstatus', 'occupation', 'relationship', 'race', 'sex', 'nativecountry']\n",
    "for i in popColumns:\n",
    "    df.pop(i)\n",
    "pass"
   ]
  },
  {
   "cell_type": "code",
   "execution_count": 4,
   "id": "b4b19641-292b-4f6c-978d-ad7deb5ac5b6",
   "metadata": {},
   "outputs": [],
   "source": [
    "# Standardizing Salary Column since it is in the format of strings\n",
    "# If Salary == ' <50k' == -1\n",
    "# Else Salary == ' >50k' == 1\n",
    "arrSalary = np.zeros((df.shape[0],1))\n",
    "for i in range(df.shape[0]):\n",
    "    arrSalary[i][0] = -1 if df.iloc[i][6] == ' <=50K' else 1"
   ]
  },
  {
   "cell_type": "code",
   "execution_count": 5,
   "id": "4d8b1347-096a-430d-8d08-bc365f799129",
   "metadata": {},
   "outputs": [],
   "source": [
    "#Normalizing Data in Mean and Unit Variance\n",
    "def normalization(df):\n",
    "    arrNorm = np.zeros((df.shape[0],df.columns.size))\n",
    "    for i in range(df.columns.size-1):\n",
    "        meanVal = df.iloc[:,i].mean()\n",
    "        standardDev = df.iloc[:,i].std()\n",
    "        for j in range(df.shape[0]):\n",
    "            arrNorm[j][i] = (df.iloc[j][i]-meanVal)/standardDev\n",
    "    return arrNorm"
   ]
  },
  {
   "cell_type": "code",
   "execution_count": 6,
   "id": "2078ff59-f3b8-4a76-95d1-31f6623fc8ea",
   "metadata": {},
   "outputs": [],
   "source": [
    "arrNorm = normalization(df)"
   ]
  },
  {
   "cell_type": "code",
   "execution_count": 7,
   "id": "46f5d91b-fd7e-4f44-a55d-b9cc74b16595",
   "metadata": {},
   "outputs": [],
   "source": [
    "dfNorm = pd.DataFrame(arrNorm)\n",
    "dfNorm.header = False\n",
    "dfNorm[6] = arrSalary"
   ]
  },
  {
   "cell_type": "code",
   "execution_count": 8,
   "id": "096ac3c8",
   "metadata": {},
   "outputs": [],
   "source": [
    "accuracyList = []"
   ]
  },
  {
   "cell_type": "code",
   "execution_count": 9,
   "id": "2630f20c-9453-4be1-b3bc-2170c03477a7",
   "metadata": {},
   "outputs": [],
   "source": [
    "y = dfNorm.pop(6)\n",
    "X = dfNorm"
   ]
  },
  {
   "cell_type": "code",
   "execution_count": 10,
   "id": "cee32fef-e9fc-4db2-bdbf-488f1d13bd2d",
   "metadata": {},
   "outputs": [],
   "source": [
    "class SVM:\n",
    "    def __init__(self):\n",
    "        global regStrength\n",
    "        global learningRate\n",
    "\n",
    "    def computeCost(self, W, X, Y):\n",
    "        # calculate hinge loss\n",
    "        M = X.shape[0]\n",
    "        Y = np.array(Y)\n",
    "        distances = 1 - Y.reshape(1, -1) * (np.dot(X, W))\n",
    "        distances[distances < 0] = 0 \n",
    "        hingeLoss = regStrength * (np.sum(distances) / M)\n",
    "\n",
    "        cost = 1 / 2 * np.dot(np.transpose(W), W) + hingeLoss\n",
    "        return cost\n",
    "    \n",
    "    def calcCostGradient(self, W, X_batch, Y_batch):\n",
    "\n",
    "        Y_final= Y_batch.astype(np.float64)\n",
    "        X_final = X_batch\n",
    "        W_64 = W.astype(np.float64)\n",
    "        distance = 1 - (Y_final * np.dot(X_final, W_64))\n",
    "        dw = np.zeros(len(W_64))\n",
    "        dw = dw.reshape(-1, 1)\n",
    "        if all(item < 0 for item in distance):\n",
    "            di = W_64\n",
    "        else:\n",
    "            x_test = W_64 - ((regStrength * Y_final) * X_final.reshape(-1, 1))\n",
    "            di = x_test\n",
    "        dw += di\n",
    "        return dw\n",
    "    \n",
    "    def testAccuracy(self, X_test, weights):\n",
    "        y_test_predicted = np.ndarray(shape=(len(X_test), 1))\n",
    "        for i in range(X_test.shape[0]):\n",
    "            yp = np.sign(np.dot(np.transpose(weights), X_test.to_numpy()[i])) #model\n",
    "            y_test_predicted[i] = yp\n",
    "        return y_test_predicted\n",
    "\n",
    "    def validation(self, X_validate,weights, Y_validate):\n",
    "        finalWeights = list(weights)\n",
    "        results = self.testAccuracy(X_validate, finalWeights)\n",
    "        a = accuracy_score(Y_validate, results)\n",
    "        return (a / len(X_validate)) * 100\n",
    "\n",
    "    def sgd(self, features, outputs, maxEpochs):\n",
    "        weights = np.zeros(features.shape[1])\n",
    "        weights = weights.reshape(-1, 1)\n",
    "        epochs = 0\n",
    "        previousCost = float(\"inf\")\n",
    "        costTreshold = 0.01  \n",
    "        for epoch in range(1, maxEpochs):\n",
    "            print(f\"{epoch,}\", end = \" \")\n",
    "            X, Y = shuffle(features, outputs)\n",
    "            for i in range(0, len(X), 300):\n",
    "                if (i % 30 == 0):\n",
    "                    validate = self.validation(features, weights, outputs)\n",
    "                    accuracyList.append(validate)\n",
    "                    try:\n",
    "                        ascent = self.calcCostGradient(weights, np.array(X.iloc[[i]]), Y[i])\n",
    "                        weights -= (self.learningRate * ascent)\n",
    "                    except:\n",
    "                        continue\n",
    "\n",
    "            if epoch == maxEpochs-1:\n",
    "                cost = self.computeCost(weights, features, outputs)\n",
    "                print(f\"Epoch is:{epoch} and Cost is: {cost}\")\n",
    "\n",
    "                if abs(previousCost - cost) < costTreshold * previousCost:\n",
    "                    return weights\n",
    "                previousCost = cost\n",
    "                epochs += 1\n",
    "        return weights\n",
    "           \n",
    "    def test(self, X_test, weights):\n",
    "        y_test_predicted = np.ndarray(shape=(len(X_test), 1))\n",
    "        for i in range(X_test.shape[0]):\n",
    "            yp = np.sign(np.dot(np.transpose(weights), X_test.to_numpy()[i])) #model\n",
    "            y_test_predicted[i] = yp\n",
    "        return y_test_predicted"
   ]
  },
  {
   "cell_type": "code",
   "execution_count": 11,
   "id": "e6d55558-7669-4b33-8d0c-d68cce06f11c",
   "metadata": {},
   "outputs": [],
   "source": [
    "model = SVM()"
   ]
  },
  {
   "cell_type": "code",
   "execution_count": 12,
   "id": "ee7f7a32-e0a0-4972-9065-9209c5f24305",
   "metadata": {},
   "outputs": [],
   "source": [
    "X_train, X_test_val, y_train, y_test_val = train_test_split(X, y, test_size=0.20, random_state=57)\n",
    "X_test, X_val, y_test, y_val = train_test_split( X_test_val, y_test_val, test_size=0.50, random_state=57)"
   ]
  },
  {
   "cell_type": "code",
   "execution_count": null,
   "id": "c7d853ab-1629-4bca-9efb-ab88d3a46032",
   "metadata": {},
   "outputs": [
    {
     "name": "stdout",
     "output_type": "stream",
     "text": [
      "(1,) (2,) (3,) (4,) (5,) (6,) (7,) (8,) (9,) (10,) (11,) (12,) (13,) (14,) (15,) "
     ]
    }
   ],
   "source": [
    "weights = model.sgd(X_train, y_train, maxEpochs=100)"
   ]
  },
  {
   "cell_type": "code",
   "execution_count": 49,
   "id": "6c968047-3ae3-49ac-b84b-2a8724cdb628",
   "metadata": {},
   "outputs": [],
   "source": [
    "df_a = pd.DataFrame(model.test(X_val, weights), columns=['y_test_predicted'])"
   ]
  },
  {
   "cell_type": "code",
   "execution_count": 50,
   "id": "2c283488-3fed-4d15-a651-0b05be06b148",
   "metadata": {},
   "outputs": [
    {
     "data": {
      "text/plain": [
       "pandas.core.frame.DataFrame"
      ]
     },
     "execution_count": 50,
     "metadata": {},
     "output_type": "execute_result"
    }
   ],
   "source": [
    "type(df_a)"
   ]
  },
  {
   "cell_type": "code",
   "execution_count": 58,
   "id": "40ac7145-0323-42d8-b510-1b156097b80b",
   "metadata": {},
   "outputs": [],
   "source": [
    "from sklearn.metrics import confusion_matrix as cm\n",
    "cm(y_val, df_a['y_test_predicted'])\n",
    "pass"
   ]
  },
  {
   "cell_type": "code",
   "execution_count": 134,
   "id": "8195c23b-1c4b-46c5-afbc-2331aa6b8ec9",
   "metadata": {},
   "outputs": [
    {
     "data": {
      "text/plain": [
       "array([[0.],\n",
       "       [0.],\n",
       "       [0.],\n",
       "       [0.],\n",
       "       [0.],\n",
       "       [0.]])"
      ]
     },
     "execution_count": 134,
     "metadata": {},
     "output_type": "execute_result"
    }
   ],
   "source": [
    "weights"
   ]
  },
  {
   "cell_type": "code",
   "execution_count": null,
   "id": "e3ee7deb-9263-4ac2-a08e-c4dd87cfd098",
   "metadata": {},
   "outputs": [],
   "source": []
  }
 ],
 "metadata": {
  "kernelspec": {
   "display_name": "Python 3 (ipykernel)",
   "language": "python",
   "name": "python3"
  },
  "language_info": {
   "codemirror_mode": {
    "name": "ipython",
    "version": 3
   },
   "file_extension": ".py",
   "mimetype": "text/x-python",
   "name": "python",
   "nbconvert_exporter": "python",
   "pygments_lexer": "ipython3",
   "version": "3.9.13"
  },
  "vscode": {
   "interpreter": {
    "hash": "b0fa6594d8f4cbf19f97940f81e996739fb7646882a419484c72d19e05852a7e"
   }
  }
 },
 "nbformat": 4,
 "nbformat_minor": 5
}
