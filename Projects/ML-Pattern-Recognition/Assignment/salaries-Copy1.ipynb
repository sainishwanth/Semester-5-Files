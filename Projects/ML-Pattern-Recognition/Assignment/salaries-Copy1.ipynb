{
 "cells": [
  {
   "cell_type": "code",
   "execution_count": 13,
   "id": "dd7e872a-a2bf-41be-a535-6675349c54b5",
   "metadata": {},
   "outputs": [],
   "source": [
    "import pandas as pd\n",
    "import numpy as np\n",
    "import matplotlib.pyplot as plt"
   ]
  },
  {
   "cell_type": "code",
   "execution_count": 14,
   "id": "4021a40d-b318-452e-aca4-08bd26e8dfa8",
   "metadata": {},
   "outputs": [],
   "source": [
    "df = pd.read_csv('arham.data')"
   ]
  },
  {
   "cell_type": "code",
   "execution_count": 15,
   "id": "945586e0-690a-4869-8a66-f709b7a453c6",
   "metadata": {},
   "outputs": [
    {
     "data": {
      "text/html": [
       "<div>\n",
       "<style scoped>\n",
       "    .dataframe tbody tr th:only-of-type {\n",
       "        vertical-align: middle;\n",
       "    }\n",
       "\n",
       "    .dataframe tbody tr th {\n",
       "        vertical-align: top;\n",
       "    }\n",
       "\n",
       "    .dataframe thead th {\n",
       "        text-align: right;\n",
       "    }\n",
       "</style>\n",
       "<table border=\"1\" class=\"dataframe\">\n",
       "  <thead>\n",
       "    <tr style=\"text-align: right;\">\n",
       "      <th></th>\n",
       "      <th>COUNTRY</th>\n",
       "      <th>LEVEL</th>\n",
       "      <th>COMPANY</th>\n",
       "      <th>EXPERIENCE</th>\n",
       "      <th>SALARY</th>\n",
       "    </tr>\n",
       "  </thead>\n",
       "  <tbody>\n",
       "    <tr>\n",
       "      <th>0</th>\n",
       "      <td>India</td>\n",
       "      <td>Grade 7\\nML / AI</td>\n",
       "      <td>Lenovo</td>\n",
       "      <td>8</td>\n",
       "      <td>3500000</td>\n",
       "    </tr>\n",
       "    <tr>\n",
       "      <th>1</th>\n",
       "      <td>India</td>\n",
       "      <td>-\\nML / AI</td>\n",
       "      <td>Intel</td>\n",
       "      <td>6</td>\n",
       "      <td>2300000</td>\n",
       "    </tr>\n",
       "    <tr>\n",
       "      <th>2</th>\n",
       "      <td>India</td>\n",
       "      <td>L1\\nML / AI</td>\n",
       "      <td>Accenture</td>\n",
       "      <td>1</td>\n",
       "      <td>160000</td>\n",
       "    </tr>\n",
       "    <tr>\n",
       "      <th>3</th>\n",
       "      <td>India</td>\n",
       "      <td>L3\\nML / AI</td>\n",
       "      <td>Infosys</td>\n",
       "      <td>4</td>\n",
       "      <td>1230000</td>\n",
       "    </tr>\n",
       "    <tr>\n",
       "      <th>4</th>\n",
       "      <td>India</td>\n",
       "      <td>L2\\nML / AI</td>\n",
       "      <td>Wipro</td>\n",
       "      <td>3</td>\n",
       "      <td>670000</td>\n",
       "    </tr>\n",
       "    <tr>\n",
       "      <th>5</th>\n",
       "      <td>US</td>\n",
       "      <td>-\\nML / AI</td>\n",
       "      <td>Facebook</td>\n",
       "      <td>3</td>\n",
       "      <td>986000</td>\n",
       "    </tr>\n",
       "    <tr>\n",
       "      <th>6</th>\n",
       "      <td>US</td>\n",
       "      <td>Intern\\nML / AI</td>\n",
       "      <td>Adobe</td>\n",
       "      <td>0</td>\n",
       "      <td>100000</td>\n",
       "    </tr>\n",
       "    <tr>\n",
       "      <th>7</th>\n",
       "      <td>Russia</td>\n",
       "      <td>L2\\nML / AI</td>\n",
       "      <td>Twitter</td>\n",
       "      <td>1</td>\n",
       "      <td>200000</td>\n",
       "    </tr>\n",
       "    <tr>\n",
       "      <th>8</th>\n",
       "      <td>Germany</td>\n",
       "      <td>Senior\\nML / AI</td>\n",
       "      <td>Dell</td>\n",
       "      <td>7</td>\n",
       "      <td>9870000</td>\n",
       "    </tr>\n",
       "    <tr>\n",
       "      <th>9</th>\n",
       "      <td>Canada</td>\n",
       "      <td>L2\\nML / AI</td>\n",
       "      <td>Suzuki</td>\n",
       "      <td>5</td>\n",
       "      <td>4570000</td>\n",
       "    </tr>\n",
       "  </tbody>\n",
       "</table>\n",
       "</div>"
      ],
      "text/plain": [
       "   COUNTRY             LEVEL    COMPANY  EXPERIENCE   SALARY\n",
       "0    India  Grade 7\\nML / AI     Lenovo           8  3500000\n",
       "1   India         -\\nML / AI      Intel           6  2300000\n",
       "2   India        L1\\nML / AI  Accenture           1   160000\n",
       "3    India       L3\\nML / AI    Infosys           4  1230000\n",
       "4    India       L2\\nML / AI      Wipro           3   670000\n",
       "5       US        -\\nML / AI   Facebook           3   986000\n",
       "6       US   Intern\\nML / AI      Adobe           0   100000\n",
       "7   Russia       L2\\nML / AI    Twitter           1   200000\n",
       "8  Germany   Senior\\nML / AI       Dell           7  9870000\n",
       "9   Canada       L2\\nML / AI     Suzuki           5  4570000"
      ]
     },
     "execution_count": 15,
     "metadata": {},
     "output_type": "execute_result"
    }
   ],
   "source": [
    "df"
   ]
  },
  {
   "cell_type": "code",
   "execution_count": 16,
   "id": "c95f4b1c-f943-47fc-b580-65464f20d85d",
   "metadata": {},
   "outputs": [],
   "source": [
    "np_sal = df.to_numpy()"
   ]
  },
  {
   "cell_type": "code",
   "execution_count": 17,
   "id": "97099b42-5736-423b-9c70-4e0eaec2ec46",
   "metadata": {},
   "outputs": [
    {
     "data": {
      "text/plain": [
       "array([['India', 'Grade 7\\nML / AI', 'Lenovo', 8, 3500000],\n",
       "       ['India ', '-\\nML / AI', 'Intel', 6, 2300000],\n",
       "       ['India ', 'L1\\nML / AI', 'Accenture', 1, 160000],\n",
       "       ['India', 'L3\\nML / AI', 'Infosys', 4, 1230000],\n",
       "       ['India', 'L2\\nML / AI', 'Wipro', 3, 670000],\n",
       "       ['US', '-\\nML / AI', 'Facebook', 3, 986000],\n",
       "       ['US', 'Intern\\nML / AI', 'Adobe', 0, 100000],\n",
       "       ['Russia', 'L2\\nML / AI', 'Twitter', 1, 200000],\n",
       "       ['Germany', 'Senior\\nML / AI', 'Dell', 7, 9870000],\n",
       "       ['Canada', 'L2\\nML / AI', 'Suzuki', 5, 4570000]], dtype=object)"
      ]
     },
     "execution_count": 17,
     "metadata": {},
     "output_type": "execute_result"
    }
   ],
   "source": [
    "np_sal"
   ]
  },
  {
   "cell_type": "code",
   "execution_count": 18,
   "id": "fd9cbf7f-2b2d-490d-b64a-b6c8e17696b2",
   "metadata": {},
   "outputs": [],
   "source": [
    "np_ind = np.array((5,5))\n",
    "np_usa = np.array((5,5))"
   ]
  },
  {
   "cell_type": "code",
   "execution_count": 19,
   "id": "668ba603-f4a3-4933-8755-311c066bf273",
   "metadata": {},
   "outputs": [],
   "source": [
    "list_ind_sal = []\n",
    "list_us_sal = []\n",
    "list_ind_exp = []\n",
    "list_us_exp = []"
   ]
  },
  {
   "cell_type": "code",
   "execution_count": 20,
   "id": "ebc0287b-438f-4a61-886c-3c67f030c710",
   "metadata": {},
   "outputs": [],
   "source": [
    "for i in range(0,10):\n",
    "    if np_sal[i][0] == 'India':\n",
    "        list_ind_sal.append(np_sal[i][4])\n",
    "        list_ind_exp.append(np_sal[i][3])\n",
    "    else:\n",
    "        list_us_sal.append(np_sal[i][4])\n",
    "        list_us_exp.append(np_sal[i][3])"
   ]
  },
  {
   "cell_type": "code",
   "execution_count": 21,
   "id": "125c8eaa-78d9-4636-8b13-7b9616a68373",
   "metadata": {},
   "outputs": [
    {
     "data": {
      "text/plain": [
       "[3500000, 1230000, 670000]"
      ]
     },
     "execution_count": 21,
     "metadata": {},
     "output_type": "execute_result"
    }
   ],
   "source": [
    "list_ind_sal"
   ]
  },
  {
   "cell_type": "code",
   "execution_count": 22,
   "id": "1916b9fe-1b7c-433e-a4c7-5060981ac2a3",
   "metadata": {},
   "outputs": [
    {
     "data": {
      "text/plain": [
       "[2300000, 160000, 986000, 100000, 200000, 9870000, 4570000]"
      ]
     },
     "execution_count": 22,
     "metadata": {},
     "output_type": "execute_result"
    }
   ],
   "source": [
    "list_us_sal"
   ]
  },
  {
   "cell_type": "code",
   "execution_count": 23,
   "id": "abbe1107-9412-4821-bf88-2ab2ca12df48",
   "metadata": {},
   "outputs": [
    {
     "data": {
      "image/png": "[encoded data removed]",
      "text/plain": [
       "<Figure size 432x288 with 1 Axes>"
      ]
     },
     "metadata": {
      "needs_background": "light"
     },
     "output_type": "display_data"
    }
   ],
   "source": [
    "plt.scatter(list_ind_exp,list_ind_sal,color='b')\n",
    "plt.scatter(list_us_exp,list_us_sal,color='g')\n",
    "plt.show()\n",
    "#Blue - India\n",
    "#Green - Abroad (USA, Canada, Russia)"
   ]
  },
  {
   "cell_type": "code",
   "execution_count": null,
   "id": "95b3ebd7-06ab-4560-8c18-b05f55efa030",
   "metadata": {},
   "outputs": [],
   "source": []
  }
 ],
 "metadata": {
  "kernelspec": {
   "display_name": "Python 3 (ipykernel)",
   "language": "python",
   "name": "python3"
  },
  "language_info": {
   "codemirror_mode": {
    "name": "ipython",
    "version": 3
   },
   "file_extension": ".py",
   "mimetype": "text/x-python",
   "name": "python",
   "nbconvert_exporter": "python",
   "pygments_lexer": "ipython3",
   "version": "3.9.13"
  }
 },
 "nbformat": 4,
 "nbformat_minor": 5
}
